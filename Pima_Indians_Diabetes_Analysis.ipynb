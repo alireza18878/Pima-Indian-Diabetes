{
  "cells": [
    {
      "cell_type": "markdown",
      "metadata": {
        "id": "BL_LfsVn_bv1"
      },
      "source": [
        "# Pima Indian Diabetes Analysis\n",
        "\n",
        "\n",
        "\n",
        "## Data Dictionary\n",
        "-------------------------\n",
        "\n",
        "The dataset has the following information:\n",
        "\n",
        "* Pregnancies: Number of times pregnant\n",
        "* Glucose: Plasma glucose concentration over 2 hours in an oral glucose tolerance test\n",
        "* BloodPressure: Diastolic blood pressure (mm Hg)\n",
        "* SkinThickness: Triceps skin fold thickness (mm)\n",
        "* Insulin: 2-Hour serum insulin (mu U/ml)\n",
        "* BMI: Body mass index (weight in kg/(height in m)^2)\n",
        "* DiabetesPedigreeFunction: A function that scores the likelihood of diabetes based on family history.\n",
        "* Age: Age in years\n",
        "* Outcome: Class variable (0: a person is not diabetic or 1: a person is diabetic)"
      ]
    },
    {
      "cell_type": "markdown",
      "metadata": {
        "id": "vVR3oeVo_bv5"
      },
      "source": [
        "## Importing the necessary libraries"
      ]
    },
    {
      "cell_type": "code",
      "execution_count": 2,
      "metadata": {
        "id": "18RDS3Lfw_Do",
        "colab": {
          "base_uri": "https://localhost:8080/"
        },
        "outputId": "e63c8880-048b-49c3-dd09-e2b0fb111b0d"
      },
      "outputs": [
        {
          "output_type": "stream",
          "name": "stdout",
          "text": [
            "Looking in indexes: https://pypi.org/simple, https://us-python.pkg.dev/colab-wheels/public/simple/\n",
            "Requirement already satisfied: tensorflow in /usr/local/lib/python3.7/dist-packages (2.8.2+zzzcolab20220719082949)\n",
            "Requirement already satisfied: protobuf<3.20,>=3.9.2 in /usr/local/lib/python3.7/dist-packages (from tensorflow) (3.17.3)\n",
            "Requirement already satisfied: grpcio<2.0,>=1.24.3 in /usr/local/lib/python3.7/dist-packages (from tensorflow) (1.48.1)\n",
            "Requirement already satisfied: h5py>=2.9.0 in /usr/local/lib/python3.7/dist-packages (from tensorflow) (3.1.0)\n",
            "Requirement already satisfied: gast>=0.2.1 in /usr/local/lib/python3.7/dist-packages (from tensorflow) (0.5.3)\n",
            "Requirement already satisfied: wrapt>=1.11.0 in /usr/local/lib/python3.7/dist-packages (from tensorflow) (1.14.1)\n",
            "Requirement already satisfied: keras<2.9,>=2.8.0rc0 in /usr/local/lib/python3.7/dist-packages (from tensorflow) (2.8.0)\n",
            "Requirement already satisfied: google-pasta>=0.1.1 in /usr/local/lib/python3.7/dist-packages (from tensorflow) (0.2.0)\n",
            "Requirement already satisfied: tensorflow-io-gcs-filesystem>=0.23.1 in /usr/local/lib/python3.7/dist-packages (from tensorflow) (0.26.0)\n",
            "Requirement already satisfied: tensorflow-estimator<2.9,>=2.8 in /usr/local/lib/python3.7/dist-packages (from tensorflow) (2.8.0)\n",
            "Requirement already satisfied: termcolor>=1.1.0 in /usr/local/lib/python3.7/dist-packages (from tensorflow) (1.1.0)\n",
            "Requirement already satisfied: absl-py>=0.4.0 in /usr/local/lib/python3.7/dist-packages (from tensorflow) (1.2.0)\n",
            "Requirement already satisfied: tensorboard<2.9,>=2.8 in /usr/local/lib/python3.7/dist-packages (from tensorflow) (2.8.0)\n",
            "Requirement already satisfied: astunparse>=1.6.0 in /usr/local/lib/python3.7/dist-packages (from tensorflow) (1.6.3)\n",
            "Requirement already satisfied: flatbuffers>=1.12 in /usr/local/lib/python3.7/dist-packages (from tensorflow) (2.0.7)\n",
            "Requirement already satisfied: keras-preprocessing>=1.1.1 in /usr/local/lib/python3.7/dist-packages (from tensorflow) (1.1.2)\n",
            "Requirement already satisfied: six>=1.12.0 in /usr/local/lib/python3.7/dist-packages (from tensorflow) (1.15.0)\n",
            "Requirement already satisfied: typing-extensions>=3.6.6 in /usr/local/lib/python3.7/dist-packages (from tensorflow) (4.1.1)\n",
            "Requirement already satisfied: libclang>=9.0.1 in /usr/local/lib/python3.7/dist-packages (from tensorflow) (14.0.6)\n",
            "Requirement already satisfied: setuptools in /usr/local/lib/python3.7/dist-packages (from tensorflow) (57.4.0)\n",
            "Requirement already satisfied: numpy>=1.20 in /usr/local/lib/python3.7/dist-packages (from tensorflow) (1.21.6)\n",
            "Requirement already satisfied: opt-einsum>=2.3.2 in /usr/local/lib/python3.7/dist-packages (from tensorflow) (3.3.0)\n",
            "Requirement already satisfied: wheel<1.0,>=0.23.0 in /usr/local/lib/python3.7/dist-packages (from astunparse>=1.6.0->tensorflow) (0.37.1)\n",
            "Requirement already satisfied: cached-property in /usr/local/lib/python3.7/dist-packages (from h5py>=2.9.0->tensorflow) (1.5.2)\n",
            "Requirement already satisfied: werkzeug>=0.11.15 in /usr/local/lib/python3.7/dist-packages (from tensorboard<2.9,>=2.8->tensorflow) (1.0.1)\n",
            "Requirement already satisfied: google-auth<3,>=1.6.3 in /usr/local/lib/python3.7/dist-packages (from tensorboard<2.9,>=2.8->tensorflow) (1.35.0)\n",
            "Requirement already satisfied: tensorboard-plugin-wit>=1.6.0 in /usr/local/lib/python3.7/dist-packages (from tensorboard<2.9,>=2.8->tensorflow) (1.8.1)\n",
            "Requirement already satisfied: tensorboard-data-server<0.7.0,>=0.6.0 in /usr/local/lib/python3.7/dist-packages (from tensorboard<2.9,>=2.8->tensorflow) (0.6.1)\n",
            "Requirement already satisfied: markdown>=2.6.8 in /usr/local/lib/python3.7/dist-packages (from tensorboard<2.9,>=2.8->tensorflow) (3.4.1)\n",
            "Requirement already satisfied: requests<3,>=2.21.0 in /usr/local/lib/python3.7/dist-packages (from tensorboard<2.9,>=2.8->tensorflow) (2.23.0)\n",
            "Requirement already satisfied: google-auth-oauthlib<0.5,>=0.4.1 in /usr/local/lib/python3.7/dist-packages (from tensorboard<2.9,>=2.8->tensorflow) (0.4.6)\n",
            "Requirement already satisfied: cachetools<5.0,>=2.0.0 in /usr/local/lib/python3.7/dist-packages (from google-auth<3,>=1.6.3->tensorboard<2.9,>=2.8->tensorflow) (4.2.4)\n",
            "Requirement already satisfied: rsa<5,>=3.1.4 in /usr/local/lib/python3.7/dist-packages (from google-auth<3,>=1.6.3->tensorboard<2.9,>=2.8->tensorflow) (4.9)\n",
            "Requirement already satisfied: pyasn1-modules>=0.2.1 in /usr/local/lib/python3.7/dist-packages (from google-auth<3,>=1.6.3->tensorboard<2.9,>=2.8->tensorflow) (0.2.8)\n",
            "Requirement already satisfied: requests-oauthlib>=0.7.0 in /usr/local/lib/python3.7/dist-packages (from google-auth-oauthlib<0.5,>=0.4.1->tensorboard<2.9,>=2.8->tensorflow) (1.3.1)\n",
            "Requirement already satisfied: importlib-metadata>=4.4 in /usr/local/lib/python3.7/dist-packages (from markdown>=2.6.8->tensorboard<2.9,>=2.8->tensorflow) (4.12.0)\n",
            "Requirement already satisfied: zipp>=0.5 in /usr/local/lib/python3.7/dist-packages (from importlib-metadata>=4.4->markdown>=2.6.8->tensorboard<2.9,>=2.8->tensorflow) (3.8.1)\n",
            "Requirement already satisfied: pyasn1<0.5.0,>=0.4.6 in /usr/local/lib/python3.7/dist-packages (from pyasn1-modules>=0.2.1->google-auth<3,>=1.6.3->tensorboard<2.9,>=2.8->tensorflow) (0.4.8)\n",
            "Requirement already satisfied: certifi>=2017.4.17 in /usr/local/lib/python3.7/dist-packages (from requests<3,>=2.21.0->tensorboard<2.9,>=2.8->tensorflow) (2022.6.15)\n",
            "Requirement already satisfied: idna<3,>=2.5 in /usr/local/lib/python3.7/dist-packages (from requests<3,>=2.21.0->tensorboard<2.9,>=2.8->tensorflow) (2.10)\n",
            "Requirement already satisfied: chardet<4,>=3.0.2 in /usr/local/lib/python3.7/dist-packages (from requests<3,>=2.21.0->tensorboard<2.9,>=2.8->tensorflow) (3.0.4)\n",
            "Requirement already satisfied: urllib3!=1.25.0,!=1.25.1,<1.26,>=1.21.1 in /usr/local/lib/python3.7/dist-packages (from requests<3,>=2.21.0->tensorboard<2.9,>=2.8->tensorflow) (1.24.3)\n",
            "Requirement already satisfied: oauthlib>=3.0.0 in /usr/local/lib/python3.7/dist-packages (from requests-oauthlib>=0.7.0->google-auth-oauthlib<0.5,>=0.4.1->tensorboard<2.9,>=2.8->tensorflow) (3.2.0)\n"
          ]
        }
      ],
      "source": [
        "!pip install tensorflow"
      ]
    },
    {
      "cell_type": "code",
      "execution_count": 2,
      "metadata": {
        "id": "sQPI1Bzz_bv5"
      },
      "outputs": [],
      "source": [
        "import numpy as np # numpy library is used to perform calculations in arrays and work with numbers\n",
        "import pandas as pd # pandas library is used to interprete and manipulate data\n",
        "\n",
        "import seaborn as sns # seaborn library is used for plotting graphs for statistical analysis \n",
        "import matplotlib.pyplot as plt # matplotlib library is used for plotting and creating visual graphs\n",
        "%matplotlib inline\n",
        "\n",
        "from sklearn.model_selection import train_test_split, StratifiedKFold, cross_val_score\n",
        "from sklearn.metrics import confusion_matrix\n",
        "from sklearn.pipeline import Pipeline\n",
        "from sklearn.model_selection import GridSearchCV\n",
        "from sklearn.model_selection import RandomizedSearchCV\n",
        "import tensorflow as tf\n",
        "from tensorflow.keras.models import Sequential\n",
        "from tensorflow.keras.layers import Dense\n",
        "from tensorflow.keras.layers import Dense, Input, Dropout,BatchNormalization\n",
        "from tensorflow.keras.wrappers.scikit_learn import KerasClassifier\n",
        "import random\n",
        "from tensorflow.keras import backend"
      ]
    },
    {
      "cell_type": "markdown",
      "metadata": {
        "id": "8WpI8LC7_bv7"
      },
      "source": [
        "# Reading the given dataset"
      ]
    },
    {
      "cell_type": "code",
      "execution_count": 4,
      "metadata": {
        "id": "OTzXe_vA_bv7",
        "colab": {
          "base_uri": "https://localhost:8080/",
          "height": 73
        },
        "outputId": "d61e9a25-dabf-4421-b8c0-650a5473b94e"
      },
      "outputs": [
        {
          "output_type": "display_data",
          "data": {
            "text/plain": [
              "<IPython.core.display.HTML object>"
            ],
            "text/html": [
              "\n",
              "     <input type=\"file\" id=\"files-47bd8030-8dcb-4b59-84cc-bac9b7e7bb29\" name=\"files[]\" multiple disabled\n",
              "        style=\"border:none\" />\n",
              "     <output id=\"result-47bd8030-8dcb-4b59-84cc-bac9b7e7bb29\">\n",
              "      Upload widget is only available when the cell has been executed in the\n",
              "      current browser session. Please rerun this cell to enable.\n",
              "      </output>\n",
              "      <script>// Copyright 2017 Google LLC\n",
              "//\n",
              "// Licensed under the Apache License, Version 2.0 (the \"License\");\n",
              "// you may not use this file except in compliance with the License.\n",
              "// You may obtain a copy of the License at\n",
              "//\n",
              "//      http://www.apache.org/licenses/LICENSE-2.0\n",
              "//\n",
              "// Unless required by applicable law or agreed to in writing, software\n",
              "// distributed under the License is distributed on an \"AS IS\" BASIS,\n",
              "// WITHOUT WARRANTIES OR CONDITIONS OF ANY KIND, either express or implied.\n",
              "// See the License for the specific language governing permissions and\n",
              "// limitations under the License.\n",
              "\n",
              "/**\n",
              " * @fileoverview Helpers for google.colab Python module.\n",
              " */\n",
              "(function(scope) {\n",
              "function span(text, styleAttributes = {}) {\n",
              "  const element = document.createElement('span');\n",
              "  element.textContent = text;\n",
              "  for (const key of Object.keys(styleAttributes)) {\n",
              "    element.style[key] = styleAttributes[key];\n",
              "  }\n",
              "  return element;\n",
              "}\n",
              "\n",
              "// Max number of bytes which will be uploaded at a time.\n",
              "const MAX_PAYLOAD_SIZE = 100 * 1024;\n",
              "\n",
              "function _uploadFiles(inputId, outputId) {\n",
              "  const steps = uploadFilesStep(inputId, outputId);\n",
              "  const outputElement = document.getElementById(outputId);\n",
              "  // Cache steps on the outputElement to make it available for the next call\n",
              "  // to uploadFilesContinue from Python.\n",
              "  outputElement.steps = steps;\n",
              "\n",
              "  return _uploadFilesContinue(outputId);\n",
              "}\n",
              "\n",
              "// This is roughly an async generator (not supported in the browser yet),\n",
              "// where there are multiple asynchronous steps and the Python side is going\n",
              "// to poll for completion of each step.\n",
              "// This uses a Promise to block the python side on completion of each step,\n",
              "// then passes the result of the previous step as the input to the next step.\n",
              "function _uploadFilesContinue(outputId) {\n",
              "  const outputElement = document.getElementById(outputId);\n",
              "  const steps = outputElement.steps;\n",
              "\n",
              "  const next = steps.next(outputElement.lastPromiseValue);\n",
              "  return Promise.resolve(next.value.promise).then((value) => {\n",
              "    // Cache the last promise value to make it available to the next\n",
              "    // step of the generator.\n",
              "    outputElement.lastPromiseValue = value;\n",
              "    return next.value.response;\n",
              "  });\n",
              "}\n",
              "\n",
              "/**\n",
              " * Generator function which is called between each async step of the upload\n",
              " * process.\n",
              " * @param {string} inputId Element ID of the input file picker element.\n",
              " * @param {string} outputId Element ID of the output display.\n",
              " * @return {!Iterable<!Object>} Iterable of next steps.\n",
              " */\n",
              "function* uploadFilesStep(inputId, outputId) {\n",
              "  const inputElement = document.getElementById(inputId);\n",
              "  inputElement.disabled = false;\n",
              "\n",
              "  const outputElement = document.getElementById(outputId);\n",
              "  outputElement.innerHTML = '';\n",
              "\n",
              "  const pickedPromise = new Promise((resolve) => {\n",
              "    inputElement.addEventListener('change', (e) => {\n",
              "      resolve(e.target.files);\n",
              "    });\n",
              "  });\n",
              "\n",
              "  const cancel = document.createElement('button');\n",
              "  inputElement.parentElement.appendChild(cancel);\n",
              "  cancel.textContent = 'Cancel upload';\n",
              "  const cancelPromise = new Promise((resolve) => {\n",
              "    cancel.onclick = () => {\n",
              "      resolve(null);\n",
              "    };\n",
              "  });\n",
              "\n",
              "  // Wait for the user to pick the files.\n",
              "  const files = yield {\n",
              "    promise: Promise.race([pickedPromise, cancelPromise]),\n",
              "    response: {\n",
              "      action: 'starting',\n",
              "    }\n",
              "  };\n",
              "\n",
              "  cancel.remove();\n",
              "\n",
              "  // Disable the input element since further picks are not allowed.\n",
              "  inputElement.disabled = true;\n",
              "\n",
              "  if (!files) {\n",
              "    return {\n",
              "      response: {\n",
              "        action: 'complete',\n",
              "      }\n",
              "    };\n",
              "  }\n",
              "\n",
              "  for (const file of files) {\n",
              "    const li = document.createElement('li');\n",
              "    li.append(span(file.name, {fontWeight: 'bold'}));\n",
              "    li.append(span(\n",
              "        `(${file.type || 'n/a'}) - ${file.size} bytes, ` +\n",
              "        `last modified: ${\n",
              "            file.lastModifiedDate ? file.lastModifiedDate.toLocaleDateString() :\n",
              "                                    'n/a'} - `));\n",
              "    const percent = span('0% done');\n",
              "    li.appendChild(percent);\n",
              "\n",
              "    outputElement.appendChild(li);\n",
              "\n",
              "    const fileDataPromise = new Promise((resolve) => {\n",
              "      const reader = new FileReader();\n",
              "      reader.onload = (e) => {\n",
              "        resolve(e.target.result);\n",
              "      };\n",
              "      reader.readAsArrayBuffer(file);\n",
              "    });\n",
              "    // Wait for the data to be ready.\n",
              "    let fileData = yield {\n",
              "      promise: fileDataPromise,\n",
              "      response: {\n",
              "        action: 'continue',\n",
              "      }\n",
              "    };\n",
              "\n",
              "    // Use a chunked sending to avoid message size limits. See b/62115660.\n",
              "    let position = 0;\n",
              "    do {\n",
              "      const length = Math.min(fileData.byteLength - position, MAX_PAYLOAD_SIZE);\n",
              "      const chunk = new Uint8Array(fileData, position, length);\n",
              "      position += length;\n",
              "\n",
              "      const base64 = btoa(String.fromCharCode.apply(null, chunk));\n",
              "      yield {\n",
              "        response: {\n",
              "          action: 'append',\n",
              "          file: file.name,\n",
              "          data: base64,\n",
              "        },\n",
              "      };\n",
              "\n",
              "      let percentDone = fileData.byteLength === 0 ?\n",
              "          100 :\n",
              "          Math.round((position / fileData.byteLength) * 100);\n",
              "      percent.textContent = `${percentDone}% done`;\n",
              "\n",
              "    } while (position < fileData.byteLength);\n",
              "  }\n",
              "\n",
              "  // All done.\n",
              "  yield {\n",
              "    response: {\n",
              "      action: 'complete',\n",
              "    }\n",
              "  };\n",
              "}\n",
              "\n",
              "scope.google = scope.google || {};\n",
              "scope.google.colab = scope.google.colab || {};\n",
              "scope.google.colab._files = {\n",
              "  _uploadFiles,\n",
              "  _uploadFilesContinue,\n",
              "};\n",
              "})(self);\n",
              "</script> "
            ]
          },
          "metadata": {}
        },
        {
          "output_type": "stream",
          "name": "stdout",
          "text": [
            "Saving diabetes.csv to diabetes.csv\n"
          ]
        }
      ],
      "source": [
        "from google.colab import files \n",
        "uploaded = files.upload()"
      ]
    },
    {
      "cell_type": "code",
      "source": [
        "pima=pd.read_csv('diabetes.csv')"
      ],
      "metadata": {
        "id": "CP24rAuWxTz9"
      },
      "execution_count": 5,
      "outputs": []
    },
    {
      "cell_type": "code",
      "execution_count": 6,
      "metadata": {
        "id": "r-f5A4nsw_Dw"
      },
      "outputs": [],
      "source": [
        "pima.rename(columns={'Outcome':'Diabetes'}, inplace=True)"
      ]
    },
    {
      "cell_type": "code",
      "execution_count": null,
      "metadata": {
        "id": "fhOmMaSn_bv-",
        "colab": {
          "base_uri": "https://localhost:8080/",
          "height": 363
        },
        "outputId": "8a1ec333-35dd-46de-d863-d5460bf64da9"
      },
      "outputs": [
        {
          "output_type": "execute_result",
          "data": {
            "text/plain": [
              "   Pregnancies  Glucose  BloodPressure  SkinThickness  Insulin        BMI  \\\n",
              "0            6      148             72             35       79  33.600000   \n",
              "1            1       85             66             29       79  26.600000   \n",
              "2            8      183             64             20       79  23.300000   \n",
              "3            1       89             66             23       94  28.100000   \n",
              "4            0      137             40             35      168  43.100000   \n",
              "5            5      116             74             20       79  25.600000   \n",
              "6            3       78             50             32       88  31.000000   \n",
              "7           10      115             69             20       79  35.300000   \n",
              "8            2      197             70             45      543  30.500000   \n",
              "9            8      125             96             20       79  31.992578   \n",
              "\n",
              "   DiabetesPedigreeFunction  Age  Diabetes  \n",
              "0                     0.627   50         1  \n",
              "1                     0.351   31         0  \n",
              "2                     0.672   32         1  \n",
              "3                     0.167   21         0  \n",
              "4                     2.288   33         1  \n",
              "5                     0.201   30         0  \n",
              "6                     0.248   26         1  \n",
              "7                     0.134   29         0  \n",
              "8                     0.158   53         1  \n",
              "9                     0.232   54         1  "
            ],
            "text/html": [
              "\n",
              "  <div id=\"df-f7b74f8d-2ac0-49b1-9f08-afe24798451c\">\n",
              "    <div class=\"colab-df-container\">\n",
              "      <div>\n",
              "<style scoped>\n",
              "    .dataframe tbody tr th:only-of-type {\n",
              "        vertical-align: middle;\n",
              "    }\n",
              "\n",
              "    .dataframe tbody tr th {\n",
              "        vertical-align: top;\n",
              "    }\n",
              "\n",
              "    .dataframe thead th {\n",
              "        text-align: right;\n",
              "    }\n",
              "</style>\n",
              "<table border=\"1\" class=\"dataframe\">\n",
              "  <thead>\n",
              "    <tr style=\"text-align: right;\">\n",
              "      <th></th>\n",
              "      <th>Pregnancies</th>\n",
              "      <th>Glucose</th>\n",
              "      <th>BloodPressure</th>\n",
              "      <th>SkinThickness</th>\n",
              "      <th>Insulin</th>\n",
              "      <th>BMI</th>\n",
              "      <th>DiabetesPedigreeFunction</th>\n",
              "      <th>Age</th>\n",
              "      <th>Diabetes</th>\n",
              "    </tr>\n",
              "  </thead>\n",
              "  <tbody>\n",
              "    <tr>\n",
              "      <th>0</th>\n",
              "      <td>6</td>\n",
              "      <td>148</td>\n",
              "      <td>72</td>\n",
              "      <td>35</td>\n",
              "      <td>79</td>\n",
              "      <td>33.600000</td>\n",
              "      <td>0.627</td>\n",
              "      <td>50</td>\n",
              "      <td>1</td>\n",
              "    </tr>\n",
              "    <tr>\n",
              "      <th>1</th>\n",
              "      <td>1</td>\n",
              "      <td>85</td>\n",
              "      <td>66</td>\n",
              "      <td>29</td>\n",
              "      <td>79</td>\n",
              "      <td>26.600000</td>\n",
              "      <td>0.351</td>\n",
              "      <td>31</td>\n",
              "      <td>0</td>\n",
              "    </tr>\n",
              "    <tr>\n",
              "      <th>2</th>\n",
              "      <td>8</td>\n",
              "      <td>183</td>\n",
              "      <td>64</td>\n",
              "      <td>20</td>\n",
              "      <td>79</td>\n",
              "      <td>23.300000</td>\n",
              "      <td>0.672</td>\n",
              "      <td>32</td>\n",
              "      <td>1</td>\n",
              "    </tr>\n",
              "    <tr>\n",
              "      <th>3</th>\n",
              "      <td>1</td>\n",
              "      <td>89</td>\n",
              "      <td>66</td>\n",
              "      <td>23</td>\n",
              "      <td>94</td>\n",
              "      <td>28.100000</td>\n",
              "      <td>0.167</td>\n",
              "      <td>21</td>\n",
              "      <td>0</td>\n",
              "    </tr>\n",
              "    <tr>\n",
              "      <th>4</th>\n",
              "      <td>0</td>\n",
              "      <td>137</td>\n",
              "      <td>40</td>\n",
              "      <td>35</td>\n",
              "      <td>168</td>\n",
              "      <td>43.100000</td>\n",
              "      <td>2.288</td>\n",
              "      <td>33</td>\n",
              "      <td>1</td>\n",
              "    </tr>\n",
              "    <tr>\n",
              "      <th>5</th>\n",
              "      <td>5</td>\n",
              "      <td>116</td>\n",
              "      <td>74</td>\n",
              "      <td>20</td>\n",
              "      <td>79</td>\n",
              "      <td>25.600000</td>\n",
              "      <td>0.201</td>\n",
              "      <td>30</td>\n",
              "      <td>0</td>\n",
              "    </tr>\n",
              "    <tr>\n",
              "      <th>6</th>\n",
              "      <td>3</td>\n",
              "      <td>78</td>\n",
              "      <td>50</td>\n",
              "      <td>32</td>\n",
              "      <td>88</td>\n",
              "      <td>31.000000</td>\n",
              "      <td>0.248</td>\n",
              "      <td>26</td>\n",
              "      <td>1</td>\n",
              "    </tr>\n",
              "    <tr>\n",
              "      <th>7</th>\n",
              "      <td>10</td>\n",
              "      <td>115</td>\n",
              "      <td>69</td>\n",
              "      <td>20</td>\n",
              "      <td>79</td>\n",
              "      <td>35.300000</td>\n",
              "      <td>0.134</td>\n",
              "      <td>29</td>\n",
              "      <td>0</td>\n",
              "    </tr>\n",
              "    <tr>\n",
              "      <th>8</th>\n",
              "      <td>2</td>\n",
              "      <td>197</td>\n",
              "      <td>70</td>\n",
              "      <td>45</td>\n",
              "      <td>543</td>\n",
              "      <td>30.500000</td>\n",
              "      <td>0.158</td>\n",
              "      <td>53</td>\n",
              "      <td>1</td>\n",
              "    </tr>\n",
              "    <tr>\n",
              "      <th>9</th>\n",
              "      <td>8</td>\n",
              "      <td>125</td>\n",
              "      <td>96</td>\n",
              "      <td>20</td>\n",
              "      <td>79</td>\n",
              "      <td>31.992578</td>\n",
              "      <td>0.232</td>\n",
              "      <td>54</td>\n",
              "      <td>1</td>\n",
              "    </tr>\n",
              "  </tbody>\n",
              "</table>\n",
              "</div>\n",
              "      <button class=\"colab-df-convert\" onclick=\"convertToInteractive('df-f7b74f8d-2ac0-49b1-9f08-afe24798451c')\"\n",
              "              title=\"Convert this dataframe to an interactive table.\"\n",
              "              style=\"display:none;\">\n",
              "        \n",
              "  <svg xmlns=\"http://www.w3.org/2000/svg\" height=\"24px\"viewBox=\"0 0 24 24\"\n",
              "       width=\"24px\">\n",
              "    <path d=\"M0 0h24v24H0V0z\" fill=\"none\"/>\n",
              "    <path d=\"M18.56 5.44l.94 2.06.94-2.06 2.06-.94-2.06-.94-.94-2.06-.94 2.06-2.06.94zm-11 1L8.5 8.5l.94-2.06 2.06-.94-2.06-.94L8.5 2.5l-.94 2.06-2.06.94zm10 10l.94 2.06.94-2.06 2.06-.94-2.06-.94-.94-2.06-.94 2.06-2.06.94z\"/><path d=\"M17.41 7.96l-1.37-1.37c-.4-.4-.92-.59-1.43-.59-.52 0-1.04.2-1.43.59L10.3 9.45l-7.72 7.72c-.78.78-.78 2.05 0 2.83L4 21.41c.39.39.9.59 1.41.59.51 0 1.02-.2 1.41-.59l7.78-7.78 2.81-2.81c.8-.78.8-2.07 0-2.86zM5.41 20L4 18.59l7.72-7.72 1.47 1.35L5.41 20z\"/>\n",
              "  </svg>\n",
              "      </button>\n",
              "      \n",
              "  <style>\n",
              "    .colab-df-container {\n",
              "      display:flex;\n",
              "      flex-wrap:wrap;\n",
              "      gap: 12px;\n",
              "    }\n",
              "\n",
              "    .colab-df-convert {\n",
              "      background-color: #E8F0FE;\n",
              "      border: none;\n",
              "      border-radius: 50%;\n",
              "      cursor: pointer;\n",
              "      display: none;\n",
              "      fill: #1967D2;\n",
              "      height: 32px;\n",
              "      padding: 0 0 0 0;\n",
              "      width: 32px;\n",
              "    }\n",
              "\n",
              "    .colab-df-convert:hover {\n",
              "      background-color: #E2EBFA;\n",
              "      box-shadow: 0px 1px 2px rgba(60, 64, 67, 0.3), 0px 1px 3px 1px rgba(60, 64, 67, 0.15);\n",
              "      fill: #174EA6;\n",
              "    }\n",
              "\n",
              "    [theme=dark] .colab-df-convert {\n",
              "      background-color: #3B4455;\n",
              "      fill: #D2E3FC;\n",
              "    }\n",
              "\n",
              "    [theme=dark] .colab-df-convert:hover {\n",
              "      background-color: #434B5C;\n",
              "      box-shadow: 0px 1px 3px 1px rgba(0, 0, 0, 0.15);\n",
              "      filter: drop-shadow(0px 1px 2px rgba(0, 0, 0, 0.3));\n",
              "      fill: #FFFFFF;\n",
              "    }\n",
              "  </style>\n",
              "\n",
              "      <script>\n",
              "        const buttonEl =\n",
              "          document.querySelector('#df-f7b74f8d-2ac0-49b1-9f08-afe24798451c button.colab-df-convert');\n",
              "        buttonEl.style.display =\n",
              "          google.colab.kernel.accessAllowed ? 'block' : 'none';\n",
              "\n",
              "        async function convertToInteractive(key) {\n",
              "          const element = document.querySelector('#df-f7b74f8d-2ac0-49b1-9f08-afe24798451c');\n",
              "          const dataTable =\n",
              "            await google.colab.kernel.invokeFunction('convertToInteractive',\n",
              "                                                     [key], {});\n",
              "          if (!dataTable) return;\n",
              "\n",
              "          const docLinkHtml = 'Like what you see? Visit the ' +\n",
              "            '<a target=\"_blank\" href=https://colab.research.google.com/notebooks/data_table.ipynb>data table notebook</a>'\n",
              "            + ' to learn more about interactive tables.';\n",
              "          element.innerHTML = '';\n",
              "          dataTable['output_type'] = 'display_data';\n",
              "          await google.colab.output.renderOutput(dataTable, element);\n",
              "          const docLink = document.createElement('div');\n",
              "          docLink.innerHTML = docLinkHtml;\n",
              "          element.appendChild(docLink);\n",
              "        }\n",
              "      </script>\n",
              "    </div>\n",
              "  </div>\n",
              "  "
            ]
          },
          "metadata": {},
          "execution_count": 7
        }
      ],
      "source": [
        "pima.head(10)"
      ]
    },
    {
      "cell_type": "code",
      "execution_count": null,
      "metadata": {
        "id": "9QQGBlaw_bv-",
        "outputId": "d7331783-fbdd-4d6b-dba9-40520d49abe5"
      },
      "outputs": [
        {
          "name": "stdout",
          "output_type": "stream",
          "text": [
            "<class 'pandas.core.frame.DataFrame'>\n",
            "RangeIndex: 768 entries, 0 to 767\n",
            "Data columns (total 9 columns):\n",
            " #   Column                    Non-Null Count  Dtype  \n",
            "---  ------                    --------------  -----  \n",
            " 0   Pregnancies               768 non-null    int64  \n",
            " 1   Glucose                   768 non-null    int64  \n",
            " 2   BloodPressure             768 non-null    int64  \n",
            " 3   SkinThickness             768 non-null    int64  \n",
            " 4   Insulin                   768 non-null    int64  \n",
            " 5   BMI                       768 non-null    float64\n",
            " 6   DiabetesPedigreeFunction  768 non-null    float64\n",
            " 7   Age                       768 non-null    int64  \n",
            " 8   Diabetes                  768 non-null    int64  \n",
            "dtypes: float64(2), int64(7)\n",
            "memory usage: 54.1 KB\n"
          ]
        }
      ],
      "source": [
        "pima.info()"
      ]
    },
    {
      "cell_type": "markdown",
      "metadata": {
        "id": "WW0P9jMc_bv_"
      },
      "source": [
        "As is shown above, the data has 9 columns (numbered from 0 to 8), and 768 rows (numbered from 0 to 767). So this table is (768,9).\n",
        "It can be inferred from the above that none of the columns of data have empty cells and also, all columns are integer except BMI and DiabetesPedigreeFunction which are float data."
      ]
    },
    {
      "cell_type": "code",
      "execution_count": null,
      "metadata": {
        "id": "yX1yh0Bx_bv_",
        "outputId": "ede2898c-10bd-4329-e9f5-a9fc4a34a602"
      },
      "outputs": [
        {
          "data": {
            "text/plain": [
              "6912"
            ]
          },
          "execution_count": 7,
          "metadata": {},
          "output_type": "execute_result"
        }
      ],
      "source": [
        "pima.size"
      ]
    },
    {
      "cell_type": "code",
      "execution_count": null,
      "metadata": {
        "id": "INEhm7-M_bwA",
        "outputId": "222584b2-f759-4783-c326-16e9b319f3bc"
      },
      "outputs": [
        {
          "name": "stdout",
          "output_type": "stream",
          "text": [
            "<class 'pandas.core.frame.DataFrame'>\n",
            "RangeIndex: 768 entries, 0 to 767\n",
            "Data columns (total 9 columns):\n",
            " #   Column                    Non-Null Count  Dtype  \n",
            "---  ------                    --------------  -----  \n",
            " 0   Pregnancies               768 non-null    int64  \n",
            " 1   Glucose                   768 non-null    int64  \n",
            " 2   BloodPressure             768 non-null    int64  \n",
            " 3   SkinThickness             768 non-null    int64  \n",
            " 4   Insulin                   768 non-null    int64  \n",
            " 5   BMI                       768 non-null    float64\n",
            " 6   DiabetesPedigreeFunction  768 non-null    float64\n",
            " 7   Age                       768 non-null    int64  \n",
            " 8   Diabetes                  768 non-null    int64  \n",
            "dtypes: float64(2), int64(7)\n",
            "memory usage: 54.1 KB\n"
          ]
        }
      ],
      "source": [
        "pima.info()"
      ]
    },
    {
      "cell_type": "markdown",
      "metadata": {
        "id": "RdARzto8_bwB"
      },
      "source": [
        "As explained earlier, all columns of the dataset are in the type of integer, except BMI and DiabetesPedigreeFunction which have a type of float."
      ]
    },
    {
      "cell_type": "markdown",
      "metadata": {
        "id": "wHYJkmek_bwB"
      },
      "source": [
        "## Checking missing values"
      ]
    },
    {
      "cell_type": "code",
      "execution_count": null,
      "metadata": {
        "id": "OiThIwyD_bwB",
        "outputId": "b772bd15-38e0-489d-c53e-c71e068d06cb"
      },
      "outputs": [
        {
          "data": {
            "text/plain": [
              "False"
            ]
          },
          "execution_count": 9,
          "metadata": {},
          "output_type": "execute_result"
        }
      ],
      "source": [
        "pima.isnull().values.any()"
      ]
    },
    {
      "cell_type": "code",
      "execution_count": null,
      "metadata": {
        "id": "JuJBDhb-_bwC",
        "outputId": "9d2961bf-74ba-4a38-e4cd-5da5b3cf6a5a"
      },
      "outputs": [
        {
          "data": {
            "text/html": [
              "<div>\n",
              "<style scoped>\n",
              "    .dataframe tbody tr th:only-of-type {\n",
              "        vertical-align: middle;\n",
              "    }\n",
              "\n",
              "    .dataframe tbody tr th {\n",
              "        vertical-align: top;\n",
              "    }\n",
              "\n",
              "    .dataframe thead th {\n",
              "        text-align: right;\n",
              "    }\n",
              "</style>\n",
              "<table border=\"1\" class=\"dataframe\">\n",
              "  <thead>\n",
              "    <tr style=\"text-align: right;\">\n",
              "      <th></th>\n",
              "      <th>Pregnancies</th>\n",
              "      <th>Glucose</th>\n",
              "      <th>BloodPressure</th>\n",
              "      <th>SkinThickness</th>\n",
              "      <th>Insulin</th>\n",
              "      <th>BMI</th>\n",
              "      <th>DiabetesPedigreeFunction</th>\n",
              "      <th>Age</th>\n",
              "      <th>Diabetes</th>\n",
              "    </tr>\n",
              "  </thead>\n",
              "  <tbody>\n",
              "    <tr>\n",
              "      <th>count</th>\n",
              "      <td>768.000000</td>\n",
              "      <td>768.000000</td>\n",
              "      <td>768.000000</td>\n",
              "      <td>768.000000</td>\n",
              "      <td>768.000000</td>\n",
              "      <td>768.000000</td>\n",
              "      <td>768.000000</td>\n",
              "      <td>768.000000</td>\n",
              "      <td>768.000000</td>\n",
              "    </tr>\n",
              "    <tr>\n",
              "      <th>mean</th>\n",
              "      <td>3.845052</td>\n",
              "      <td>121.675781</td>\n",
              "      <td>72.250000</td>\n",
              "      <td>26.447917</td>\n",
              "      <td>118.270833</td>\n",
              "      <td>32.450805</td>\n",
              "      <td>0.471876</td>\n",
              "      <td>33.240885</td>\n",
              "      <td>0.348958</td>\n",
              "    </tr>\n",
              "    <tr>\n",
              "      <th>std</th>\n",
              "      <td>3.369578</td>\n",
              "      <td>30.436252</td>\n",
              "      <td>12.117203</td>\n",
              "      <td>9.733872</td>\n",
              "      <td>93.243829</td>\n",
              "      <td>6.875374</td>\n",
              "      <td>0.331329</td>\n",
              "      <td>11.760232</td>\n",
              "      <td>0.476951</td>\n",
              "    </tr>\n",
              "    <tr>\n",
              "      <th>min</th>\n",
              "      <td>0.000000</td>\n",
              "      <td>44.000000</td>\n",
              "      <td>24.000000</td>\n",
              "      <td>7.000000</td>\n",
              "      <td>14.000000</td>\n",
              "      <td>18.200000</td>\n",
              "      <td>0.078000</td>\n",
              "      <td>21.000000</td>\n",
              "      <td>0.000000</td>\n",
              "    </tr>\n",
              "    <tr>\n",
              "      <th>25%</th>\n",
              "      <td>1.000000</td>\n",
              "      <td>99.750000</td>\n",
              "      <td>64.000000</td>\n",
              "      <td>20.000000</td>\n",
              "      <td>79.000000</td>\n",
              "      <td>27.500000</td>\n",
              "      <td>0.243750</td>\n",
              "      <td>24.000000</td>\n",
              "      <td>0.000000</td>\n",
              "    </tr>\n",
              "    <tr>\n",
              "      <th>50%</th>\n",
              "      <td>3.000000</td>\n",
              "      <td>117.000000</td>\n",
              "      <td>72.000000</td>\n",
              "      <td>23.000000</td>\n",
              "      <td>79.000000</td>\n",
              "      <td>32.000000</td>\n",
              "      <td>0.372500</td>\n",
              "      <td>29.000000</td>\n",
              "      <td>0.000000</td>\n",
              "    </tr>\n",
              "    <tr>\n",
              "      <th>75%</th>\n",
              "      <td>6.000000</td>\n",
              "      <td>140.250000</td>\n",
              "      <td>80.000000</td>\n",
              "      <td>32.000000</td>\n",
              "      <td>127.250000</td>\n",
              "      <td>36.600000</td>\n",
              "      <td>0.626250</td>\n",
              "      <td>41.000000</td>\n",
              "      <td>1.000000</td>\n",
              "    </tr>\n",
              "    <tr>\n",
              "      <th>max</th>\n",
              "      <td>17.000000</td>\n",
              "      <td>199.000000</td>\n",
              "      <td>122.000000</td>\n",
              "      <td>99.000000</td>\n",
              "      <td>846.000000</td>\n",
              "      <td>67.100000</td>\n",
              "      <td>2.420000</td>\n",
              "      <td>81.000000</td>\n",
              "      <td>1.000000</td>\n",
              "    </tr>\n",
              "  </tbody>\n",
              "</table>\n",
              "</div>"
            ],
            "text/plain": [
              "       Pregnancies     Glucose  BloodPressure  SkinThickness     Insulin  \\\n",
              "count   768.000000  768.000000     768.000000     768.000000  768.000000   \n",
              "mean      3.845052  121.675781      72.250000      26.447917  118.270833   \n",
              "std       3.369578   30.436252      12.117203       9.733872   93.243829   \n",
              "min       0.000000   44.000000      24.000000       7.000000   14.000000   \n",
              "25%       1.000000   99.750000      64.000000      20.000000   79.000000   \n",
              "50%       3.000000  117.000000      72.000000      23.000000   79.000000   \n",
              "75%       6.000000  140.250000      80.000000      32.000000  127.250000   \n",
              "max      17.000000  199.000000     122.000000      99.000000  846.000000   \n",
              "\n",
              "              BMI  DiabetesPedigreeFunction         Age    Diabetes  \n",
              "count  768.000000                768.000000  768.000000  768.000000  \n",
              "mean    32.450805                  0.471876   33.240885    0.348958  \n",
              "std      6.875374                  0.331329   11.760232    0.476951  \n",
              "min     18.200000                  0.078000   21.000000    0.000000  \n",
              "25%     27.500000                  0.243750   24.000000    0.000000  \n",
              "50%     32.000000                  0.372500   29.000000    0.000000  \n",
              "75%     36.600000                  0.626250   41.000000    1.000000  \n",
              "max     67.100000                  2.420000   81.000000    1.000000  "
            ]
          },
          "execution_count": 17,
          "metadata": {},
          "output_type": "execute_result"
        }
      ],
      "source": [
        "pima.describe()"
      ]
    },
    {
      "cell_type": "markdown",
      "metadata": {
        "id": "y20K1lOx_bwC"
      },
      "source": [
        "**Observations:** It can be seen that the average amount of Glucose in all patients is 121 with a standard deviation of 30. Also, the lowest and highest amount of Glucose in the patients were 44 and 199, respectively. Also, it can be seen that 1/4 of the patients had Glucose levels from 44 to 99. Similar conclusions can be made for 1/2 and 3/4 quartiles."
      ]
    },
    {
      "cell_type": "markdown",
      "metadata": {
        "id": "6_8ucReuw_ED"
      },
      "source": [
        "The maximum number of pregnancies is 17, which could be an outlier for this variable. Also, the minimum and maximum values for Insulin variable is 14 and 846, which shows a large variation and potentially, an outlier (846)."
      ]
    },
    {
      "cell_type": "markdown",
      "metadata": {
        "id": "3gO4yNoS_bwD"
      },
      "source": [
        "## Plotting the distribution plot for the variable 'BloodPressure'"
      ]
    },
    {
      "cell_type": "code",
      "execution_count": null,
      "metadata": {
        "id": "k4ulBXrW_bwD",
        "outputId": "f0ffa024-c0ae-4cbb-d97b-c032cdd0d300"
      },
      "outputs": [
        {
          "data": {
            "image/png": "[encoded data removed]",
            "text/plain": [
              "<Figure size 360x360 with 1 Axes>"
            ]
          },
          "metadata": {
            "needs_background": "light"
          },
          "output_type": "display_data"
        }
      ],
      "source": [
        "sns.displot(pima['BloodPressure'], kind='kde')\n",
        "plt.show()"
      ]
    },
    {
      "cell_type": "markdown",
      "metadata": {
        "id": "LGKnjmYV_bwD"
      },
      "source": [
        "**Observations:** The above graph shows that \"Blood Pressure\" is normally distributed (i.e. normal distribution). It can be observed that blood pressures in the range of 60 to 80 have the highest frequency of patients, and as the blood pressures dropped from 60 or increased from 80, the density of patients in this range decreased."
      ]
    },
    {
      "cell_type": "markdown",
      "metadata": {
        "id": "zQgUfx28_bwE"
      },
      "source": [
        "## Determining number of women whose 'Glucose' levels are above the mean level of 'Glucose'"
      ]
    },
    {
      "cell_type": "code",
      "execution_count": null,
      "metadata": {
        "id": "elzY2lG0_bwE",
        "outputId": "da0e9ffb-9771-423a-fdaf-d38a6a701f74"
      },
      "outputs": [
        {
          "data": {
            "text/plain": [
              "343"
            ]
          },
          "execution_count": 16,
          "metadata": {},
          "output_type": "execute_result"
        }
      ],
      "source": [
        "pima[pima['Glucose']>pima['Glucose'].mean()].shape[0]"
      ]
    },
    {
      "cell_type": "markdown",
      "metadata": {
        "id": "KP5Ex2Mj_bwF"
      },
      "source": [
        "Out of 768 patients, 343 of them have a glucose level above the average value."
      ]
    },
    {
      "cell_type": "markdown",
      "metadata": {
        "id": "O8KX8Nva_bwF"
      },
      "source": [
        "## Creating a pairplot for the variables 'Glucose', 'SkinThickness', and 'DiabetesPedigreeFunction'."
      ]
    },
    {
      "cell_type": "code",
      "execution_count": null,
      "metadata": {
        "id": "dDj12snn_bwG",
        "outputId": "9880abbe-4baf-4b78-aad8-06a347599753"
      },
      "outputs": [
        {
          "data": {
            "image/png": "[encoded data removed]",
            "text/plain": [
              "<Figure size 592.375x540 with 12 Axes>"
            ]
          },
          "metadata": {
            "needs_background": "light"
          },
          "output_type": "display_data"
        }
      ],
      "source": [
        "sns.pairplot(data=pima,vars=['Glucose', 'SkinThickness', 'DiabetesPedigreeFunction'], hue='Diabetes')\n",
        "plt.show()"
      ]
    },
    {
      "cell_type": "markdown",
      "metadata": {
        "id": "S2bPFIk9_bwG"
      },
      "source": [
        "**Observations:** It can be observed that Glucose does not have a corrolation with skin thickness and diabetes pedigree function, but patients with who have diabetes have higher glucose levels (orange dots versus blue dots). However, it appears that skin thickness and diabetes pedigree functions may have slight corrolation (not strong corrolation). \n",
        "The diagonal diagrams show a distribution of the variables. For glucose, it can be seen that both diabetes and non-diabetes patients have normal distributions but are skewed towards right. For skin thickness, the population does not seem to be normally distributed, but for a given skin thickness, the frequency of non-diabetes is more than diabetes. Similarly, for a diven diabetes pedgree function value, the frequency of non-diabetes patients is higher than diabetes."
      ]
    },
    {
      "cell_type": "markdown",
      "metadata": {
        "id": "NzGHKjXv_bwG"
      },
      "source": [
        "## Plotting boxplot for the 'Age' variable"
      ]
    },
    {
      "cell_type": "code",
      "execution_count": null,
      "metadata": {
        "id": "zmWjERJM_bwH",
        "outputId": "ac5c0f86-42aa-49bc-aef0-2ac72ce89793"
      },
      "outputs": [
        {
          "data": {
            "image/png": "[encoded data removed]",
            "text/plain": [
              "<Figure size 432x288 with 1 Axes>"
            ]
          },
          "metadata": {
            "needs_background": "light"
          },
          "output_type": "display_data"
        }
      ],
      "source": [
        "plt.boxplot(pima['Age'])\n",
        "\n",
        "plt.title('Boxplot of Age')\n",
        "plt.ylabel('Age')\n",
        "plt.show()"
      ]
    },
    {
      "cell_type": "markdown",
      "metadata": {
        "id": "ID7pFghO_bwH"
      },
      "source": [
        "**Observations:** The above box plot shows that there are many outliers in the upper range. Since outliers are defined as points that are above 1.5*IQR, then we can see that the Age column has a number of outliers in the higher values of the column."
      ]
    },
    {
      "cell_type": "markdown",
      "metadata": {
        "id": "OlvUC_fTw_EO"
      },
      "source": [
        "## Plotting boxplot for the 'BMI' variable"
      ]
    },
    {
      "cell_type": "code",
      "execution_count": null,
      "metadata": {
        "scrolled": true,
        "id": "zpH0M4jkw_EP",
        "outputId": "d5c03ff9-a7d3-4bb6-c1b1-ccf112cd1aa4"
      },
      "outputs": [
        {
          "data": {
            "image/png": "[encoded data removed]",
            "text/plain": [
              "<Figure size 432x288 with 1 Axes>"
            ]
          },
          "metadata": {
            "needs_background": "light"
          },
          "output_type": "display_data"
        }
      ],
      "source": [
        "plt.boxplot(pima['BMI'])\n",
        "\n",
        "plt.title('Boxplot of BMI')\n",
        "plt.ylabel('BMI')\n",
        "plt.show()"
      ]
    },
    {
      "cell_type": "markdown",
      "metadata": {
        "id": "BKDI1Uarw_EQ"
      },
      "source": [
        "**Observations:** Similar to the boxplot for age, the boxplot for BMI shows many outliers in the upper range as well. "
      ]
    },
    {
      "cell_type": "markdown",
      "metadata": {
        "id": "KjldKKMs_bwI"
      },
      "source": [
        "### **Bivariate and Multivariate analysis**"
      ]
    },
    {
      "cell_type": "code",
      "execution_count": 8,
      "metadata": {
        "id": "dvBVRRM8_bwI",
        "outputId": "8d0f1441-fbca-4289-864e-70154fce0fa4",
        "colab": {
          "base_uri": "https://localhost:8080/",
          "height": 300
        }
      },
      "outputs": [
        {
          "output_type": "execute_result",
          "data": {
            "text/plain": [
              "                          Pregnancies   Glucose  BloodPressure  SkinThickness  \\\n",
              "Pregnancies                  1.000000  0.128022       0.208987       0.009393   \n",
              "Glucose                      0.128022  1.000000       0.219765       0.158060   \n",
              "BloodPressure                0.208987  0.219765       1.000000       0.130403   \n",
              "SkinThickness                0.009393  0.158060       0.130403       1.000000   \n",
              "Insulin                     -0.018780  0.396137       0.010492       0.245410   \n",
              "BMI                          0.021546  0.231464       0.281222       0.532552   \n",
              "DiabetesPedigreeFunction    -0.033523  0.137158       0.000471       0.157196   \n",
              "Age                          0.544341  0.266673       0.326791       0.020582   \n",
              "\n",
              "                           Insulin       BMI  DiabetesPedigreeFunction  \\\n",
              "Pregnancies              -0.018780  0.021546                 -0.033523   \n",
              "Glucose                   0.396137  0.231464                  0.137158   \n",
              "BloodPressure             0.010492  0.281222                  0.000471   \n",
              "SkinThickness             0.245410  0.532552                  0.157196   \n",
              "Insulin                   1.000000  0.189919                  0.158243   \n",
              "BMI                       0.189919  1.000000                  0.153508   \n",
              "DiabetesPedigreeFunction  0.158243  0.153508                  1.000000   \n",
              "Age                       0.037676  0.025748                  0.033561   \n",
              "\n",
              "                               Age  \n",
              "Pregnancies               0.544341  \n",
              "Glucose                   0.266673  \n",
              "BloodPressure             0.326791  \n",
              "SkinThickness             0.020582  \n",
              "Insulin                   0.037676  \n",
              "BMI                       0.025748  \n",
              "DiabetesPedigreeFunction  0.033561  \n",
              "Age                       1.000000  "
            ],
            "text/html": [
              "\n",
              "  <div id=\"df-a762b222-ffae-48df-85be-0b24bdf85f9c\">\n",
              "    <div class=\"colab-df-container\">\n",
              "      <div>\n",
              "<style scoped>\n",
              "    .dataframe tbody tr th:only-of-type {\n",
              "        vertical-align: middle;\n",
              "    }\n",
              "\n",
              "    .dataframe tbody tr th {\n",
              "        vertical-align: top;\n",
              "    }\n",
              "\n",
              "    .dataframe thead th {\n",
              "        text-align: right;\n",
              "    }\n",
              "</style>\n",
              "<table border=\"1\" class=\"dataframe\">\n",
              "  <thead>\n",
              "    <tr style=\"text-align: right;\">\n",
              "      <th></th>\n",
              "      <th>Pregnancies</th>\n",
              "      <th>Glucose</th>\n",
              "      <th>BloodPressure</th>\n",
              "      <th>SkinThickness</th>\n",
              "      <th>Insulin</th>\n",
              "      <th>BMI</th>\n",
              "      <th>DiabetesPedigreeFunction</th>\n",
              "      <th>Age</th>\n",
              "    </tr>\n",
              "  </thead>\n",
              "  <tbody>\n",
              "    <tr>\n",
              "      <th>Pregnancies</th>\n",
              "      <td>1.000000</td>\n",
              "      <td>0.128022</td>\n",
              "      <td>0.208987</td>\n",
              "      <td>0.009393</td>\n",
              "      <td>-0.018780</td>\n",
              "      <td>0.021546</td>\n",
              "      <td>-0.033523</td>\n",
              "      <td>0.544341</td>\n",
              "    </tr>\n",
              "    <tr>\n",
              "      <th>Glucose</th>\n",
              "      <td>0.128022</td>\n",
              "      <td>1.000000</td>\n",
              "      <td>0.219765</td>\n",
              "      <td>0.158060</td>\n",
              "      <td>0.396137</td>\n",
              "      <td>0.231464</td>\n",
              "      <td>0.137158</td>\n",
              "      <td>0.266673</td>\n",
              "    </tr>\n",
              "    <tr>\n",
              "      <th>BloodPressure</th>\n",
              "      <td>0.208987</td>\n",
              "      <td>0.219765</td>\n",
              "      <td>1.000000</td>\n",
              "      <td>0.130403</td>\n",
              "      <td>0.010492</td>\n",
              "      <td>0.281222</td>\n",
              "      <td>0.000471</td>\n",
              "      <td>0.326791</td>\n",
              "    </tr>\n",
              "    <tr>\n",
              "      <th>SkinThickness</th>\n",
              "      <td>0.009393</td>\n",
              "      <td>0.158060</td>\n",
              "      <td>0.130403</td>\n",
              "      <td>1.000000</td>\n",
              "      <td>0.245410</td>\n",
              "      <td>0.532552</td>\n",
              "      <td>0.157196</td>\n",
              "      <td>0.020582</td>\n",
              "    </tr>\n",
              "    <tr>\n",
              "      <th>Insulin</th>\n",
              "      <td>-0.018780</td>\n",
              "      <td>0.396137</td>\n",
              "      <td>0.010492</td>\n",
              "      <td>0.245410</td>\n",
              "      <td>1.000000</td>\n",
              "      <td>0.189919</td>\n",
              "      <td>0.158243</td>\n",
              "      <td>0.037676</td>\n",
              "    </tr>\n",
              "    <tr>\n",
              "      <th>BMI</th>\n",
              "      <td>0.021546</td>\n",
              "      <td>0.231464</td>\n",
              "      <td>0.281222</td>\n",
              "      <td>0.532552</td>\n",
              "      <td>0.189919</td>\n",
              "      <td>1.000000</td>\n",
              "      <td>0.153508</td>\n",
              "      <td>0.025748</td>\n",
              "    </tr>\n",
              "    <tr>\n",
              "      <th>DiabetesPedigreeFunction</th>\n",
              "      <td>-0.033523</td>\n",
              "      <td>0.137158</td>\n",
              "      <td>0.000471</td>\n",
              "      <td>0.157196</td>\n",
              "      <td>0.158243</td>\n",
              "      <td>0.153508</td>\n",
              "      <td>1.000000</td>\n",
              "      <td>0.033561</td>\n",
              "    </tr>\n",
              "    <tr>\n",
              "      <th>Age</th>\n",
              "      <td>0.544341</td>\n",
              "      <td>0.266673</td>\n",
              "      <td>0.326791</td>\n",
              "      <td>0.020582</td>\n",
              "      <td>0.037676</td>\n",
              "      <td>0.025748</td>\n",
              "      <td>0.033561</td>\n",
              "      <td>1.000000</td>\n",
              "    </tr>\n",
              "  </tbody>\n",
              "</table>\n",
              "</div>\n",
              "      <button class=\"colab-df-convert\" onclick=\"convertToInteractive('df-a762b222-ffae-48df-85be-0b24bdf85f9c')\"\n",
              "              title=\"Convert this dataframe to an interactive table.\"\n",
              "              style=\"display:none;\">\n",
              "        \n",
              "  <svg xmlns=\"http://www.w3.org/2000/svg\" height=\"24px\"viewBox=\"0 0 24 24\"\n",
              "       width=\"24px\">\n",
              "    <path d=\"M0 0h24v24H0V0z\" fill=\"none\"/>\n",
              "    <path d=\"M18.56 5.44l.94 2.06.94-2.06 2.06-.94-2.06-.94-.94-2.06-.94 2.06-2.06.94zm-11 1L8.5 8.5l.94-2.06 2.06-.94-2.06-.94L8.5 2.5l-.94 2.06-2.06.94zm10 10l.94 2.06.94-2.06 2.06-.94-2.06-.94-.94-2.06-.94 2.06-2.06.94z\"/><path d=\"M17.41 7.96l-1.37-1.37c-.4-.4-.92-.59-1.43-.59-.52 0-1.04.2-1.43.59L10.3 9.45l-7.72 7.72c-.78.78-.78 2.05 0 2.83L4 21.41c.39.39.9.59 1.41.59.51 0 1.02-.2 1.41-.59l7.78-7.78 2.81-2.81c.8-.78.8-2.07 0-2.86zM5.41 20L4 18.59l7.72-7.72 1.47 1.35L5.41 20z\"/>\n",
              "  </svg>\n",
              "      </button>\n",
              "      \n",
              "  <style>\n",
              "    .colab-df-container {\n",
              "      display:flex;\n",
              "      flex-wrap:wrap;\n",
              "      gap: 12px;\n",
              "    }\n",
              "\n",
              "    .colab-df-convert {\n",
              "      background-color: #E8F0FE;\n",
              "      border: none;\n",
              "      border-radius: 50%;\n",
              "      cursor: pointer;\n",
              "      display: none;\n",
              "      fill: #1967D2;\n",
              "      height: 32px;\n",
              "      padding: 0 0 0 0;\n",
              "      width: 32px;\n",
              "    }\n",
              "\n",
              "    .colab-df-convert:hover {\n",
              "      background-color: #E2EBFA;\n",
              "      box-shadow: 0px 1px 2px rgba(60, 64, 67, 0.3), 0px 1px 3px 1px rgba(60, 64, 67, 0.15);\n",
              "      fill: #174EA6;\n",
              "    }\n",
              "\n",
              "    [theme=dark] .colab-df-convert {\n",
              "      background-color: #3B4455;\n",
              "      fill: #D2E3FC;\n",
              "    }\n",
              "\n",
              "    [theme=dark] .colab-df-convert:hover {\n",
              "      background-color: #434B5C;\n",
              "      box-shadow: 0px 1px 3px 1px rgba(0, 0, 0, 0.15);\n",
              "      filter: drop-shadow(0px 1px 2px rgba(0, 0, 0, 0.3));\n",
              "      fill: #FFFFFF;\n",
              "    }\n",
              "  </style>\n",
              "\n",
              "      <script>\n",
              "        const buttonEl =\n",
              "          document.querySelector('#df-a762b222-ffae-48df-85be-0b24bdf85f9c button.colab-df-convert');\n",
              "        buttonEl.style.display =\n",
              "          google.colab.kernel.accessAllowed ? 'block' : 'none';\n",
              "\n",
              "        async function convertToInteractive(key) {\n",
              "          const element = document.querySelector('#df-a762b222-ffae-48df-85be-0b24bdf85f9c');\n",
              "          const dataTable =\n",
              "            await google.colab.kernel.invokeFunction('convertToInteractive',\n",
              "                                                     [key], {});\n",
              "          if (!dataTable) return;\n",
              "\n",
              "          const docLinkHtml = 'Like what you see? Visit the ' +\n",
              "            '<a target=\"_blank\" href=https://colab.research.google.com/notebooks/data_table.ipynb>data table notebook</a>'\n",
              "            + ' to learn more about interactive tables.';\n",
              "          element.innerHTML = '';\n",
              "          dataTable['output_type'] = 'display_data';\n",
              "          await google.colab.output.renderOutput(dataTable, element);\n",
              "          const docLink = document.createElement('div');\n",
              "          docLink.innerHTML = docLinkHtml;\n",
              "          element.appendChild(docLink);\n",
              "        }\n",
              "      </script>\n",
              "    </div>\n",
              "  </div>\n",
              "  "
            ]
          },
          "metadata": {},
          "execution_count": 8
        }
      ],
      "source": [
        "corr_matrix = pima.iloc[:,0:8].corr()\n",
        "\n",
        "corr_matrix"
      ]
    },
    {
      "cell_type": "code",
      "execution_count": 10,
      "metadata": {
        "id": "Ju8Gymxw_bwJ",
        "outputId": "be1c7657-b792-4d1a-962a-ca94ce561d8d",
        "colab": {
          "base_uri": "https://localhost:8080/",
          "height": 487
        }
      },
      "outputs": [
        {
          "output_type": "display_data",
          "data": {
            "text/plain": [
              "<Figure size 1296x576 with 2 Axes>"
            ],
            "image/png": "[encoded data removed]"
          },
          "metadata": {
            "needs_background": "light"
          }
        }
      ],
      "source": [
        "plt.figure(figsize=(18,8))\n",
        "sns.heatmap(corr_matrix, annot = True, vmin=-1, vmax=1)\n",
        "\n",
        "# display the plot\n",
        "plt.show()"
      ]
    },
    {
      "cell_type": "markdown",
      "metadata": {
        "id": "m3AKvSrM_bwJ"
      },
      "source": [
        "**Observations:**\n",
        "In the heat map above, it can be observed that most boxes are in the middle range (close to 0), meaning that there are no corrolation. Except for Age and pregnancy, which show a slight positive corrolation, and also BMI and skin thickness show a slight positive corrolation."
      ]
    },
    {
      "cell_type": "markdown",
      "metadata": {
        "id": "zZy3vd0Hw_ES"
      },
      "source": [
        "### **Diabetes and Pregnancy analysis**"
      ]
    },
    {
      "cell_type": "code",
      "execution_count": null,
      "metadata": {
        "id": "aZPSVE-Uw_ET",
        "outputId": "a7c6df50-c701-4c12-bbce-795f9a8f345d"
      },
      "outputs": [
        {
          "data": {
            "text/plain": [
              "Text(0, 0.5, 'Diabetes percentage %')"
            ]
          },
          "execution_count": 20,
          "metadata": {},
          "output_type": "execute_result"
        },
        {
          "data": {
            "image/png": "[encoded data removed]",
            "text/plain": [
              "<Figure size 576x288 with 1 Axes>"
            ]
          },
          "metadata": {
            "needs_background": "light"
          },
          "output_type": "display_data"
        }
      ],
      "source": [
        "(pd.crosstab(pima['Pregnancies'],pima['Diabetes'],normalize='index')*100).plot(kind='bar',figsize=(8,4),stacked=True)\n",
        "plt.ylabel('Diabetes percentage %')"
      ]
    },
    {
      "cell_type": "markdown",
      "metadata": {
        "id": "Wxu_7n4ww_ET"
      },
      "source": [
        "**Observations:**\n",
        "From the above plot, it appears that those women who were pregnant 14 times or more all had diabetes. Also, it can be seen that as the number of pregnancies increase, the trend of diabetes also increases. Let's check the diabetes status of those women who were pregnant 14 times or more:"
      ]
    },
    {
      "cell_type": "code",
      "execution_count": null,
      "metadata": {
        "scrolled": true,
        "id": "nJEI674dw_EU",
        "outputId": "15da6e9c-6788-418f-8065-d7f4c499f58a"
      },
      "outputs": [
        {
          "data": {
            "text/html": [
              "<div>\n",
              "<style scoped>\n",
              "    .dataframe tbody tr th:only-of-type {\n",
              "        vertical-align: middle;\n",
              "    }\n",
              "\n",
              "    .dataframe tbody tr th {\n",
              "        vertical-align: top;\n",
              "    }\n",
              "\n",
              "    .dataframe thead th {\n",
              "        text-align: right;\n",
              "    }\n",
              "</style>\n",
              "<table border=\"1\" class=\"dataframe\">\n",
              "  <thead>\n",
              "    <tr style=\"text-align: right;\">\n",
              "      <th></th>\n",
              "      <th>Pregnancies</th>\n",
              "      <th>Glucose</th>\n",
              "      <th>BloodPressure</th>\n",
              "      <th>SkinThickness</th>\n",
              "      <th>Insulin</th>\n",
              "      <th>BMI</th>\n",
              "      <th>DiabetesPedigreeFunction</th>\n",
              "      <th>Age</th>\n",
              "      <th>Diabetes</th>\n",
              "    </tr>\n",
              "  </thead>\n",
              "  <tbody>\n",
              "    <tr>\n",
              "      <th>88</th>\n",
              "      <td>15</td>\n",
              "      <td>136</td>\n",
              "      <td>70</td>\n",
              "      <td>32</td>\n",
              "      <td>110</td>\n",
              "      <td>37.1</td>\n",
              "      <td>0.153</td>\n",
              "      <td>43</td>\n",
              "      <td>1</td>\n",
              "    </tr>\n",
              "    <tr>\n",
              "      <th>159</th>\n",
              "      <td>17</td>\n",
              "      <td>163</td>\n",
              "      <td>72</td>\n",
              "      <td>41</td>\n",
              "      <td>114</td>\n",
              "      <td>40.9</td>\n",
              "      <td>0.817</td>\n",
              "      <td>47</td>\n",
              "      <td>1</td>\n",
              "    </tr>\n",
              "    <tr>\n",
              "      <th>298</th>\n",
              "      <td>14</td>\n",
              "      <td>100</td>\n",
              "      <td>78</td>\n",
              "      <td>25</td>\n",
              "      <td>184</td>\n",
              "      <td>36.6</td>\n",
              "      <td>0.412</td>\n",
              "      <td>46</td>\n",
              "      <td>1</td>\n",
              "    </tr>\n",
              "    <tr>\n",
              "      <th>455</th>\n",
              "      <td>14</td>\n",
              "      <td>175</td>\n",
              "      <td>62</td>\n",
              "      <td>30</td>\n",
              "      <td>79</td>\n",
              "      <td>33.6</td>\n",
              "      <td>0.212</td>\n",
              "      <td>38</td>\n",
              "      <td>1</td>\n",
              "    </tr>\n",
              "  </tbody>\n",
              "</table>\n",
              "</div>"
            ],
            "text/plain": [
              "     Pregnancies  Glucose  BloodPressure  SkinThickness  Insulin   BMI  \\\n",
              "88            15      136             70             32      110  37.1   \n",
              "159           17      163             72             41      114  40.9   \n",
              "298           14      100             78             25      184  36.6   \n",
              "455           14      175             62             30       79  33.6   \n",
              "\n",
              "     DiabetesPedigreeFunction  Age  Diabetes  \n",
              "88                      0.153   43         1  \n",
              "159                     0.817   47         1  \n",
              "298                     0.412   46         1  \n",
              "455                     0.212   38         1  "
            ]
          },
          "execution_count": 22,
          "metadata": {},
          "output_type": "execute_result"
        }
      ],
      "source": [
        "pima[pima['Pregnancies']>13]"
      ]
    },
    {
      "cell_type": "markdown",
      "metadata": {
        "id": "nvs9YIyfw_EU"
      },
      "source": [
        "### **Finding the percentage of outliers, in each column of the data, using IQR.**"
      ]
    },
    {
      "cell_type": "code",
      "execution_count": null,
      "metadata": {
        "id": "Gk5k-UEaw_EU"
      },
      "outputs": [],
      "source": [
        "Q1 = pima.quantile(0.25)  # To find the 25th percentile and 75th percentile.\n",
        "Q3 = pima.quantile(0.75)\n",
        "\n",
        "IQR = Q3 - Q1  # Inter Quantile Range (75th perentile - 25th percentile)\n",
        "\n",
        "lower = (Q1 - 1.5 * IQR)  # Finding lower and upper bounds for all values. All values outside these bounds are outliers\n",
        "upper = Q3 + 1.5 * IQR"
      ]
    },
    {
      "cell_type": "code",
      "execution_count": null,
      "metadata": {
        "id": "dZCbvT5Xw_EV",
        "outputId": "795a8ee8-b7cc-4a90-a622-83cf99f09020"
      },
      "outputs": [
        {
          "data": {
            "text/plain": [
              "Pregnancies                  0.520833\n",
              "Glucose                      0.000000\n",
              "BloodPressure                1.822917\n",
              "SkinThickness                1.171875\n",
              "Insulin                     11.588542\n",
              "BMI                          1.041667\n",
              "DiabetesPedigreeFunction     3.776042\n",
              "Age                          1.171875\n",
              "Diabetes                     0.000000\n",
              "dtype: float64"
            ]
          },
          "execution_count": 25,
          "metadata": {},
          "output_type": "execute_result"
        }
      ],
      "source": [
        "(\n",
        "    (pima.select_dtypes(include=[\"float64\", \"int64\"]) < lower)\n",
        "    | (pima.select_dtypes(include=[\"float64\", \"int64\"]) > upper)\n",
        ").sum() / len(pima) * 100"
      ]
    },
    {
      "cell_type": "markdown",
      "metadata": {
        "id": "gha7S7yEw_EV"
      },
      "source": [
        "**Observations:**\n",
        "* It can be observed that 11.5 percent of variables in Insulin variable are outliers. In this case, the outliers are not removed  since there will be outliers in real case scenario and it is preferred that our model learns the underlying pattern for such patients."
      ]
    },
    {
      "cell_type": "markdown",
      "metadata": {
        "id": "ooBuf1iXw_EW"
      },
      "source": [
        "**Separating the independent variables (X) and the dependent variable (Y)**"
      ]
    },
    {
      "cell_type": "code",
      "execution_count": 11,
      "metadata": {
        "id": "n_iNBlAfw_EW"
      },
      "outputs": [],
      "source": [
        "X = pima.drop(['Diabetes'], axis=1)\n",
        "y = pima[\"Diabetes\"]"
      ]
    },
    {
      "cell_type": "markdown",
      "metadata": {
        "id": "b1vBnqc-w_EW"
      },
      "source": [
        "**Splitting the data into 70% train and 30% test set**\n",
        "\n",
        "Some classification problems can exhibit a large imbalance in the distribution of the target classes: for instance there could be several times more negative samples than positive samples. In such cases it is recommended to use the **stratified sampling** technique to ensure that relative class frequencies are approximately preserved in each train and validation fold."
      ]
    },
    {
      "cell_type": "code",
      "execution_count": 12,
      "metadata": {
        "id": "fTaBowBOw_EX"
      },
      "outputs": [],
      "source": [
        "# Splitting the data\n",
        "X_train,X_test,y_train,y_test=train_test_split(X,y,test_size=0.3,random_state=1,stratify=y)"
      ]
    },
    {
      "cell_type": "code",
      "execution_count": null,
      "metadata": {
        "id": "7pX8qUn3w_EX",
        "outputId": "0d86b4e0-43f1-438d-f7cd-b29038874db0"
      },
      "outputs": [
        {
          "name": "stdout",
          "output_type": "stream",
          "text": [
            "Pregnancies                 0\n",
            "Glucose                     0\n",
            "BloodPressure               0\n",
            "SkinThickness               0\n",
            "Insulin                     0\n",
            "BMI                         0\n",
            "DiabetesPedigreeFunction    0\n",
            "Age                         0\n",
            "dtype: int64\n",
            "------------------------------\n",
            "Pregnancies                 0\n",
            "Glucose                     0\n",
            "BloodPressure               0\n",
            "SkinThickness               0\n",
            "Insulin                     0\n",
            "BMI                         0\n",
            "DiabetesPedigreeFunction    0\n",
            "Age                         0\n",
            "dtype: int64\n"
          ]
        }
      ],
      "source": [
        "# Checking that no column has missing values in train or test sets\n",
        "print(X_train.isna().sum())\n",
        "print(\"-\" * 30)\n",
        "print(X_test.isna().sum())"
      ]
    },
    {
      "cell_type": "markdown",
      "metadata": {
        "id": "or76tQogw_EY"
      },
      "source": [
        "**Observations:**\n",
        "* All missing values have been treated."
      ]
    },
    {
      "cell_type": "markdown",
      "metadata": {
        "id": "fwmG7VZqw_EY"
      },
      "source": [
        "### **Model evaluation criterion**\n",
        "\n",
        "**The model can make two types of wrong predictions:**\n",
        "1. Predicting a patient will have diabetes and the patient will not be diagnosed with diabetes.\n",
        "2. Predicting a patient will not have diabetes and the patient will have diabetes.\n",
        "\n",
        "**Which case is more important?**\n",
        "* Predicting that a patient will not have diabetes but he/she has diabetes. \n",
        "\n",
        "**How to reduce this loss i.e the need to reduce False Negatives?**\n",
        "* **Here we would want `Recall` to be maximized**, greater the Recall higher the chances of minimizing false negatives. Hence, the focus should be on increasing Recall or minimizing the false negatives or in other words identifying the true positives (i.e. Class 1) so that the we can identify patients who are at risk of diabetes."
      ]
    },
    {
      "cell_type": "markdown",
      "metadata": {
        "id": "m7DGVETmw_EZ"
      },
      "source": [
        "### Model 1"
      ]
    },
    {
      "cell_type": "code",
      "execution_count": 13,
      "metadata": {
        "id": "NbfTT0lqw_EZ"
      },
      "outputs": [],
      "source": [
        "backend.clear_session()\n",
        "#Fixing the seed for random number generators so that we can ensure we receive the same output everytime\n",
        "np.random.seed(42)\n",
        "import random\n",
        "random.seed(42)\n",
        "tf.random.set_seed(42)"
      ]
    },
    {
      "cell_type": "code",
      "execution_count": 14,
      "metadata": {
        "id": "k_jXP5btw_Ea"
      },
      "outputs": [],
      "source": [
        "# Initializing the ANN\n",
        "model = Sequential()\n",
        "\n",
        "model.add(Dense(activation = 'relu', input_dim = 8, units=64))\n",
        "#Add 1st hidden layer\n",
        "model.add(Dense(32, activation='relu'))\n",
        "# Adding the output layer\n",
        "\n",
        "model.add(Dense(1, activation = 'sigmoid')) "
      ]
    },
    {
      "cell_type": "code",
      "source": [
        "# Create optimizer with default learning rate\n",
        "# Compile the model\n",
        "model.compile(optimizer='SGD', loss='binary_crossentropy', metrics=['accuracy'])"
      ],
      "metadata": {
        "id": "bq9p4BchyXg7"
      },
      "execution_count": 15,
      "outputs": []
    },
    {
      "cell_type": "code",
      "source": [
        "model.summary()"
      ],
      "metadata": {
        "colab": {
          "base_uri": "https://localhost:8080/"
        },
        "id": "BvP0eOwuygCy",
        "outputId": "7965c3c2-4e4f-475f-ed2f-ff0309e23754"
      },
      "execution_count": 12,
      "outputs": [
        {
          "output_type": "stream",
          "name": "stdout",
          "text": [
            "Model: \"sequential\"\n",
            "_________________________________________________________________\n",
            " Layer (type)                Output Shape              Param #   \n",
            "=================================================================\n",
            " dense (Dense)               (None, 64)                576       \n",
            "                                                                 \n",
            " dense_1 (Dense)             (None, 32)                2080      \n",
            "                                                                 \n",
            " dense_2 (Dense)             (None, 1)                 33        \n",
            "                                                                 \n",
            "=================================================================\n",
            "Total params: 2,689\n",
            "Trainable params: 2,689\n",
            "Non-trainable params: 0\n",
            "_________________________________________________________________\n"
          ]
        }
      ]
    },
    {
      "cell_type": "code",
      "source": [
        "  history=model.fit(X_train, y_train,           \n",
        "          validation_split=0.2,\n",
        "          epochs=50,\n",
        "          batch_size=32,verbose=1)"
      ],
      "metadata": {
        "colab": {
          "base_uri": "https://localhost:8080/"
        },
        "id": "mn80cp9dyhaE",
        "outputId": "5ac8d659-b8e9-43cb-a36d-6826737698e0"
      },
      "execution_count": 16,
      "outputs": [
        {
          "output_type": "stream",
          "name": "stdout",
          "text": [
            "Epoch 1/50\n",
            "14/14 [==============================] - 1s 15ms/step - loss: 7.5883 - accuracy: 0.5758 - val_loss: 0.7737 - val_accuracy: 0.6111\n",
            "Epoch 2/50\n",
            "14/14 [==============================] - 0s 3ms/step - loss: 0.6556 - accuracy: 0.6503 - val_loss: 0.6128 - val_accuracy: 0.6852\n",
            "Epoch 3/50\n",
            "14/14 [==============================] - 0s 3ms/step - loss: 0.6050 - accuracy: 0.6643 - val_loss: 0.5964 - val_accuracy: 0.7130\n",
            "Epoch 4/50\n",
            "14/14 [==============================] - 0s 2ms/step - loss: 0.5889 - accuracy: 0.7063 - val_loss: 0.6039 - val_accuracy: 0.6759\n",
            "Epoch 5/50\n",
            "14/14 [==============================] - 0s 2ms/step - loss: 0.5891 - accuracy: 0.6783 - val_loss: 0.5966 - val_accuracy: 0.7130\n",
            "Epoch 6/50\n",
            "14/14 [==============================] - 0s 2ms/step - loss: 0.6113 - accuracy: 0.6830 - val_loss: 0.5882 - val_accuracy: 0.6852\n",
            "Epoch 7/50\n",
            "14/14 [==============================] - 0s 2ms/step - loss: 0.5744 - accuracy: 0.7040 - val_loss: 0.6434 - val_accuracy: 0.6389\n",
            "Epoch 8/50\n",
            "14/14 [==============================] - 0s 2ms/step - loss: 0.5837 - accuracy: 0.6946 - val_loss: 0.7650 - val_accuracy: 0.5926\n",
            "Epoch 9/50\n",
            "14/14 [==============================] - 0s 2ms/step - loss: 0.6055 - accuracy: 0.7040 - val_loss: 0.5885 - val_accuracy: 0.7315\n",
            "Epoch 10/50\n",
            "14/14 [==============================] - 0s 4ms/step - loss: 0.5745 - accuracy: 0.7110 - val_loss: 0.6109 - val_accuracy: 0.7130\n",
            "Epoch 11/50\n",
            "14/14 [==============================] - 0s 2ms/step - loss: 0.5762 - accuracy: 0.7296 - val_loss: 0.5836 - val_accuracy: 0.7222\n",
            "Epoch 12/50\n",
            "14/14 [==============================] - 0s 4ms/step - loss: 0.5835 - accuracy: 0.7133 - val_loss: 0.5771 - val_accuracy: 0.7222\n",
            "Epoch 13/50\n",
            "14/14 [==============================] - 0s 4ms/step - loss: 0.5719 - accuracy: 0.7016 - val_loss: 0.6010 - val_accuracy: 0.6759\n",
            "Epoch 14/50\n",
            "14/14 [==============================] - 0s 2ms/step - loss: 0.5756 - accuracy: 0.6900 - val_loss: 0.6361 - val_accuracy: 0.6852\n",
            "Epoch 15/50\n",
            "14/14 [==============================] - 0s 2ms/step - loss: 0.5689 - accuracy: 0.7133 - val_loss: 0.5796 - val_accuracy: 0.7500\n",
            "Epoch 16/50\n",
            "14/14 [==============================] - 0s 2ms/step - loss: 0.5703 - accuracy: 0.7110 - val_loss: 0.5819 - val_accuracy: 0.7407\n",
            "Epoch 17/50\n",
            "14/14 [==============================] - 0s 4ms/step - loss: 0.5623 - accuracy: 0.7156 - val_loss: 0.5992 - val_accuracy: 0.6944\n",
            "Epoch 18/50\n",
            "14/14 [==============================] - 0s 3ms/step - loss: 0.5593 - accuracy: 0.7086 - val_loss: 0.6642 - val_accuracy: 0.6759\n",
            "Epoch 19/50\n",
            "14/14 [==============================] - 0s 2ms/step - loss: 0.5597 - accuracy: 0.7319 - val_loss: 0.5700 - val_accuracy: 0.7500\n",
            "Epoch 20/50\n",
            "14/14 [==============================] - 0s 2ms/step - loss: 0.5526 - accuracy: 0.7040 - val_loss: 0.5790 - val_accuracy: 0.7315\n",
            "Epoch 21/50\n",
            "14/14 [==============================] - 0s 2ms/step - loss: 0.5738 - accuracy: 0.7156 - val_loss: 0.5631 - val_accuracy: 0.7685\n",
            "Epoch 22/50\n",
            "14/14 [==============================] - 0s 3ms/step - loss: 0.5580 - accuracy: 0.7110 - val_loss: 0.5681 - val_accuracy: 0.7500\n",
            "Epoch 23/50\n",
            "14/14 [==============================] - 0s 2ms/step - loss: 0.5503 - accuracy: 0.7063 - val_loss: 0.6043 - val_accuracy: 0.7130\n",
            "Epoch 24/50\n",
            "14/14 [==============================] - 0s 2ms/step - loss: 0.5649 - accuracy: 0.7203 - val_loss: 0.6592 - val_accuracy: 0.6574\n",
            "Epoch 25/50\n",
            "14/14 [==============================] - 0s 2ms/step - loss: 0.5574 - accuracy: 0.7086 - val_loss: 0.5552 - val_accuracy: 0.7778\n",
            "Epoch 26/50\n",
            "14/14 [==============================] - 0s 2ms/step - loss: 0.5473 - accuracy: 0.7110 - val_loss: 0.5695 - val_accuracy: 0.7500\n",
            "Epoch 27/50\n",
            "14/14 [==============================] - 0s 4ms/step - loss: 0.5479 - accuracy: 0.7249 - val_loss: 0.5606 - val_accuracy: 0.7685\n",
            "Epoch 28/50\n",
            "14/14 [==============================] - 0s 3ms/step - loss: 0.5487 - accuracy: 0.7226 - val_loss: 0.5573 - val_accuracy: 0.7500\n",
            "Epoch 29/50\n",
            "14/14 [==============================] - 0s 3ms/step - loss: 0.5507 - accuracy: 0.7110 - val_loss: 0.5661 - val_accuracy: 0.7870\n",
            "Epoch 30/50\n",
            "14/14 [==============================] - 0s 3ms/step - loss: 0.5458 - accuracy: 0.7133 - val_loss: 0.5779 - val_accuracy: 0.7500\n",
            "Epoch 31/50\n",
            "14/14 [==============================] - 0s 3ms/step - loss: 0.5536 - accuracy: 0.7016 - val_loss: 0.5791 - val_accuracy: 0.7037\n",
            "Epoch 32/50\n",
            "14/14 [==============================] - 0s 2ms/step - loss: 0.5485 - accuracy: 0.7203 - val_loss: 0.5565 - val_accuracy: 0.7685\n",
            "Epoch 33/50\n",
            "14/14 [==============================] - 0s 2ms/step - loss: 0.5448 - accuracy: 0.7343 - val_loss: 0.5698 - val_accuracy: 0.7593\n",
            "Epoch 34/50\n",
            "14/14 [==============================] - 0s 2ms/step - loss: 0.5510 - accuracy: 0.7179 - val_loss: 0.5766 - val_accuracy: 0.7500\n",
            "Epoch 35/50\n",
            "14/14 [==============================] - 0s 3ms/step - loss: 0.5410 - accuracy: 0.7226 - val_loss: 0.6207 - val_accuracy: 0.6481\n",
            "Epoch 36/50\n",
            "14/14 [==============================] - 0s 3ms/step - loss: 0.5555 - accuracy: 0.7179 - val_loss: 0.5648 - val_accuracy: 0.7315\n",
            "Epoch 37/50\n",
            "14/14 [==============================] - 0s 2ms/step - loss: 0.5329 - accuracy: 0.7319 - val_loss: 0.5613 - val_accuracy: 0.7500\n",
            "Epoch 38/50\n",
            "14/14 [==============================] - 0s 3ms/step - loss: 0.5303 - accuracy: 0.7529 - val_loss: 0.5514 - val_accuracy: 0.7685\n",
            "Epoch 39/50\n",
            "14/14 [==============================] - 0s 3ms/step - loss: 0.5277 - accuracy: 0.7436 - val_loss: 0.5480 - val_accuracy: 0.7685\n",
            "Epoch 40/50\n",
            "14/14 [==============================] - 0s 3ms/step - loss: 0.5441 - accuracy: 0.7273 - val_loss: 0.5802 - val_accuracy: 0.7500\n",
            "Epoch 41/50\n",
            "14/14 [==============================] - 0s 3ms/step - loss: 0.5458 - accuracy: 0.7249 - val_loss: 0.5553 - val_accuracy: 0.7870\n",
            "Epoch 42/50\n",
            "14/14 [==============================] - 0s 2ms/step - loss: 0.5311 - accuracy: 0.7459 - val_loss: 0.5493 - val_accuracy: 0.7593\n",
            "Epoch 43/50\n",
            "14/14 [==============================] - 0s 3ms/step - loss: 0.5203 - accuracy: 0.7366 - val_loss: 0.6272 - val_accuracy: 0.6481\n",
            "Epoch 44/50\n",
            "14/14 [==============================] - 0s 3ms/step - loss: 0.5472 - accuracy: 0.7156 - val_loss: 0.5931 - val_accuracy: 0.6759\n",
            "Epoch 45/50\n",
            "14/14 [==============================] - 0s 3ms/step - loss: 0.5285 - accuracy: 0.7016 - val_loss: 0.5805 - val_accuracy: 0.7500\n",
            "Epoch 46/50\n",
            "14/14 [==============================] - 0s 2ms/step - loss: 0.5372 - accuracy: 0.7413 - val_loss: 0.5745 - val_accuracy: 0.7407\n",
            "Epoch 47/50\n",
            "14/14 [==============================] - 0s 2ms/step - loss: 0.5379 - accuracy: 0.7343 - val_loss: 0.5800 - val_accuracy: 0.7593\n",
            "Epoch 48/50\n",
            "14/14 [==============================] - 0s 3ms/step - loss: 0.5260 - accuracy: 0.7249 - val_loss: 0.5647 - val_accuracy: 0.7593\n",
            "Epoch 49/50\n",
            "14/14 [==============================] - 0s 3ms/step - loss: 0.5378 - accuracy: 0.7296 - val_loss: 0.6094 - val_accuracy: 0.7315\n",
            "Epoch 50/50\n",
            "14/14 [==============================] - 0s 2ms/step - loss: 0.5364 - accuracy: 0.7273 - val_loss: 0.5549 - val_accuracy: 0.7222\n"
          ]
        }
      ]
    },
    {
      "cell_type": "code",
      "source": [
        "# Capturing learning history per epoch\n",
        "hist  = pd.DataFrame(history.history)\n",
        "hist['epoch'] = history.epoch\n",
        "\n",
        "# Plotting accuracy at different epochs\n",
        "plt.plot(history.history['accuracy'])\n",
        "plt.plot(history.history['val_accuracy'])\n",
        "plt.title('Accuracy vs Epochs')\n",
        "plt.ylabel('Accuracy')\n",
        "plt.xlabel('Epoch')\n",
        "plt.legend(['Train', 'Validation'], loc='lower right')\n",
        "plt.show()\n"
      ],
      "metadata": {
        "colab": {
          "base_uri": "https://localhost:8080/",
          "height": 295
        },
        "id": "sGNRh_8ZzCz0",
        "outputId": "07f9ad4c-4ca9-452e-f149-2136d86ef49e"
      },
      "execution_count": 17,
      "outputs": [
        {
          "output_type": "display_data",
          "data": {
            "text/plain": [
              "<Figure size 432x288 with 1 Axes>"
            ],
            "image/png": "[encoded data removed]"
          },
          "metadata": {
            "needs_background": "light"
          }
        }
      ]
    },
    {
      "cell_type": "markdown",
      "source": [
        "There is noise in the loss behavior here. Sometimes, the loss function fluctuates a lot during training, which makes the convergence slow. These fluctuations are due to the nature of Stochastic Gradient Descent that produces noisy updates in the parameters. \n",
        "\n",
        "Let's check the other metrices. Here, we will look at predictions of the test dataset with a threshold of higher than 0.5."
      ],
      "metadata": {
        "id": "ezZItq7vz5v_"
      }
    },
    {
      "cell_type": "code",
      "source": [
        "y_pred=model.predict(X_test)\n",
        "y_pred = (y_pred > 0.5)\n",
        "y_pred"
      ],
      "metadata": {
        "colab": {
          "base_uri": "https://localhost:8080/"
        },
        "id": "i-oCs48g2jdi",
        "outputId": "b4182f28-8e00-463e-cfc9-555e7854a24e"
      },
      "execution_count": 18,
      "outputs": [
        {
          "output_type": "execute_result",
          "data": {
            "text/plain": [
              "array([[False],\n",
              "       [ True],\n",
              "       [False],\n",
              "       [False],\n",
              "       [False],\n",
              "       [False],\n",
              "       [False],\n",
              "       [ True],\n",
              "       [ True],\n",
              "       [False],\n",
              "       [False],\n",
              "       [False],\n",
              "       [False],\n",
              "       [False],\n",
              "       [False],\n",
              "       [False],\n",
              "       [False],\n",
              "       [ True],\n",
              "       [False],\n",
              "       [False],\n",
              "       [False],\n",
              "       [False],\n",
              "       [ True],\n",
              "       [ True],\n",
              "       [ True],\n",
              "       [False],\n",
              "       [ True],\n",
              "       [False],\n",
              "       [False],\n",
              "       [ True],\n",
              "       [False],\n",
              "       [ True],\n",
              "       [ True],\n",
              "       [False],\n",
              "       [ True],\n",
              "       [False],\n",
              "       [False],\n",
              "       [False],\n",
              "       [ True],\n",
              "       [False],\n",
              "       [False],\n",
              "       [False],\n",
              "       [False],\n",
              "       [ True],\n",
              "       [False],\n",
              "       [False],\n",
              "       [False],\n",
              "       [False],\n",
              "       [ True],\n",
              "       [False],\n",
              "       [False],\n",
              "       [ True],\n",
              "       [False],\n",
              "       [ True],\n",
              "       [False],\n",
              "       [ True],\n",
              "       [False],\n",
              "       [False],\n",
              "       [False],\n",
              "       [False],\n",
              "       [ True],\n",
              "       [ True],\n",
              "       [False],\n",
              "       [ True],\n",
              "       [False],\n",
              "       [False],\n",
              "       [False],\n",
              "       [ True],\n",
              "       [False],\n",
              "       [False],\n",
              "       [False],\n",
              "       [False],\n",
              "       [ True],\n",
              "       [ True],\n",
              "       [False],\n",
              "       [False],\n",
              "       [False],\n",
              "       [False],\n",
              "       [False],\n",
              "       [False],\n",
              "       [False],\n",
              "       [False],\n",
              "       [False],\n",
              "       [False],\n",
              "       [ True],\n",
              "       [False],\n",
              "       [ True],\n",
              "       [False],\n",
              "       [ True],\n",
              "       [ True],\n",
              "       [ True],\n",
              "       [False],\n",
              "       [False],\n",
              "       [ True],\n",
              "       [ True],\n",
              "       [False],\n",
              "       [ True],\n",
              "       [False],\n",
              "       [False],\n",
              "       [ True],\n",
              "       [ True],\n",
              "       [False],\n",
              "       [False],\n",
              "       [False],\n",
              "       [False],\n",
              "       [False],\n",
              "       [False],\n",
              "       [False],\n",
              "       [False],\n",
              "       [False],\n",
              "       [False],\n",
              "       [False],\n",
              "       [False],\n",
              "       [False],\n",
              "       [False],\n",
              "       [False],\n",
              "       [ True],\n",
              "       [False],\n",
              "       [False],\n",
              "       [ True],\n",
              "       [ True],\n",
              "       [False],\n",
              "       [False],\n",
              "       [False],\n",
              "       [ True],\n",
              "       [False],\n",
              "       [False],\n",
              "       [False],\n",
              "       [False],\n",
              "       [False],\n",
              "       [ True],\n",
              "       [False],\n",
              "       [False],\n",
              "       [False],\n",
              "       [ True],\n",
              "       [ True],\n",
              "       [False],\n",
              "       [False],\n",
              "       [False],\n",
              "       [False],\n",
              "       [ True],\n",
              "       [False],\n",
              "       [False],\n",
              "       [False],\n",
              "       [ True],\n",
              "       [ True],\n",
              "       [False],\n",
              "       [False],\n",
              "       [ True],\n",
              "       [ True],\n",
              "       [ True],\n",
              "       [False],\n",
              "       [False],\n",
              "       [False],\n",
              "       [False],\n",
              "       [False],\n",
              "       [False],\n",
              "       [ True],\n",
              "       [False],\n",
              "       [ True],\n",
              "       [ True],\n",
              "       [False],\n",
              "       [False],\n",
              "       [ True],\n",
              "       [False],\n",
              "       [False],\n",
              "       [ True],\n",
              "       [ True],\n",
              "       [False],\n",
              "       [False],\n",
              "       [False],\n",
              "       [False],\n",
              "       [False],\n",
              "       [ True],\n",
              "       [False],\n",
              "       [False],\n",
              "       [False],\n",
              "       [False],\n",
              "       [False],\n",
              "       [False],\n",
              "       [False],\n",
              "       [False],\n",
              "       [ True],\n",
              "       [ True],\n",
              "       [False],\n",
              "       [False],\n",
              "       [False],\n",
              "       [False],\n",
              "       [False],\n",
              "       [False],\n",
              "       [False],\n",
              "       [ True],\n",
              "       [False],\n",
              "       [False],\n",
              "       [ True],\n",
              "       [False],\n",
              "       [False],\n",
              "       [False],\n",
              "       [False],\n",
              "       [False],\n",
              "       [False],\n",
              "       [False],\n",
              "       [False],\n",
              "       [False],\n",
              "       [False],\n",
              "       [False],\n",
              "       [False],\n",
              "       [False],\n",
              "       [ True],\n",
              "       [False],\n",
              "       [ True],\n",
              "       [False],\n",
              "       [False],\n",
              "       [ True],\n",
              "       [False],\n",
              "       [ True],\n",
              "       [False],\n",
              "       [False],\n",
              "       [False],\n",
              "       [ True],\n",
              "       [False],\n",
              "       [False],\n",
              "       [False],\n",
              "       [ True],\n",
              "       [False],\n",
              "       [ True],\n",
              "       [ True],\n",
              "       [False],\n",
              "       [ True],\n",
              "       [False],\n",
              "       [False]])"
            ]
          },
          "metadata": {},
          "execution_count": 18
        }
      ]
    },
    {
      "cell_type": "code",
      "source": [
        "#This function will make a plot of an sklearn Confusion Matrix cm using a Seaborn heatmap visualization.\n",
        "def make_confusion_matrix(cf,\n",
        "                          group_names=None,\n",
        "                          categories='auto',\n",
        "                          count=True,\n",
        "                          percent=True,\n",
        "                          cbar=True,\n",
        "                          xyticks=True,\n",
        "                          xyplotlabels=True,\n",
        "                          sum_stats=True,\n",
        "                          figsize=None,\n",
        "                          cmap='Blues',\n",
        "                          title=None):\n",
        "\n",
        "\n",
        "\n",
        "    # CODE TO GENERATE TEXT INSIDE EACH SQUARE\n",
        "    blanks = ['' for i in range(cf.size)]\n",
        "\n",
        "    if group_names and len(group_names)==cf.size:\n",
        "        group_labels = [\"{}\\n\".format(value) for value in group_names]\n",
        "    else:\n",
        "        group_labels = blanks\n",
        "\n",
        "    if count:\n",
        "        group_counts = [\"{0:0.0f}\\n\".format(value) for value in cf.flatten()]\n",
        "    else:\n",
        "        group_counts = blanks\n",
        "\n",
        "    if percent:\n",
        "        group_percentages = [\"{0:.2%}\".format(value) for value in cf.flatten()/np.sum(cf)]\n",
        "    else:\n",
        "        group_percentages = blanks\n",
        "\n",
        "    box_labels = [f\"{v1}{v2}{v3}\".strip() for v1, v2, v3 in zip(group_labels,group_counts,group_percentages)]\n",
        "    box_labels = np.asarray(box_labels).reshape(cf.shape[0],cf.shape[1])\n",
        "\n",
        "\n",
        "    # CODE TO GENERATE SUMMARY STATISTICS & TEXT FOR SUMMARY STATS\n",
        "    if sum_stats:\n",
        "        #Accuracy is sum of diagonal divided by total observations\n",
        "        accuracy  = np.trace(cf) / float(np.sum(cf))\n",
        "\n",
        "\n",
        "\n",
        "    # SET FIGURE PARAMETERS ACCORDING TO OTHER ARGUMENTS\n",
        "    if figsize==None:\n",
        "        #Get default figure size if not set\n",
        "        figsize = plt.rcParams.get('figure.figsize')\n",
        "\n",
        "    if xyticks==False:\n",
        "        #Do not show categories if xyticks is False\n",
        "        categories=False\n",
        "\n",
        "\n",
        "    # MAKE THE HEATMAP VISUALIZATION\n",
        "    plt.figure(figsize=figsize)\n",
        "    sns.heatmap(cf,annot=box_labels,fmt=\"\",cmap=cmap,cbar=cbar,xticklabels=categories,yticklabels=categories)\n",
        "\n",
        "    \n",
        "    if title:\n",
        "        plt.title(title)"
      ],
      "metadata": {
        "id": "3S30yEjkzPgw"
      },
      "execution_count": 19,
      "outputs": []
    },
    {
      "cell_type": "code",
      "source": [
        "#Calculating the confusion matrix \n",
        "from sklearn.metrics import confusion_matrix\n",
        "cm=confusion_matrix(y_test, y_pred)\n",
        "labels = ['True Negative','False Positive','False Negative','True Positive']\n",
        "categories = [ 'No Diabetes','Diabetes']\n",
        "make_confusion_matrix(cm, \n",
        "                      group_names=labels,\n",
        "                      categories=categories, \n",
        "                      cmap='Blues')"
      ],
      "metadata": {
        "colab": {
          "base_uri": "https://localhost:8080/",
          "height": 265
        },
        "id": "JKVY7yRV0ANp",
        "outputId": "41d12131-c9f2-4e5b-b457-9b710e3a4463"
      },
      "execution_count": 20,
      "outputs": [
        {
          "output_type": "display_data",
          "data": {
            "text/plain": [
              "<Figure size 432x288 with 2 Axes>"
            ],
            "image/png": "[encoded data removed]"
          },
          "metadata": {
            "needs_background": "light"
          }
        }
      ]
    },
    {
      "cell_type": "markdown",
      "source": [
        "Here, the false negatives are about 20%. We would like to reduce this number as per our objective."
      ],
      "metadata": {
        "id": "RLqFTP0B06Rt"
      }
    },
    {
      "cell_type": "code",
      "source": [
        "#Accuracy as per the classification report \n",
        "from sklearn import metrics\n",
        "cr=metrics.classification_report(y_test,y_pred)\n",
        "print(cr)"
      ],
      "metadata": {
        "colab": {
          "base_uri": "https://localhost:8080/"
        },
        "id": "ulz9Hqv-0O12",
        "outputId": "256a280c-4eea-4a00-ee49-2ea57a520db2"
      },
      "execution_count": 24,
      "outputs": [
        {
          "output_type": "stream",
          "name": "stdout",
          "text": [
            "              precision    recall  f1-score   support\n",
            "\n",
            "           0       0.72      0.79      0.75       150\n",
            "           1       0.52      0.43      0.47        81\n",
            "\n",
            "    accuracy                           0.66       231\n",
            "   macro avg       0.62      0.61      0.61       231\n",
            "weighted avg       0.65      0.66      0.65       231\n",
            "\n"
          ]
        }
      ]
    },
    {
      "cell_type": "markdown",
      "source": [
        "The recall percentage is 0.43. I will now try to change the optimizer, tune the decision threshold, increase the layers and configure some other hyperparameters accordingly, in order to improve the model's performance."
      ],
      "metadata": {
        "id": "QURfapUz1aJv"
      }
    },
    {
      "cell_type": "markdown",
      "source": [
        "### Model 2"
      ],
      "metadata": {
        "id": "BbeSVatr1ezv"
      }
    },
    {
      "cell_type": "code",
      "source": [
        "backend.clear_session()\n",
        "np.random.seed(42)\n",
        "import random\n",
        "random.seed(42)\n",
        "tf.random.set_seed(42)"
      ],
      "metadata": {
        "id": "ZVodwcPM1K2r"
      },
      "execution_count": 28,
      "outputs": []
    },
    {
      "cell_type": "code",
      "source": [
        "model1 = Sequential()\n",
        "      #Adding the hidden and output layers\n",
        "model1.add(Dense(256,activation='relu',kernel_initializer='he_uniform',input_dim =8))\n",
        "model1.add(Dense(128,activation='relu',kernel_initializer='he_uniform'))\n",
        "model1.add(Dense(64,activation='relu',kernel_initializer='he_uniform'))\n",
        "model1.add(Dense(32,activation='relu',kernel_initializer='he_uniform'))\n",
        "model1.add(Dense(1, activation = 'sigmoid'))\n",
        "      #Compiling the ANN with Adam optimizer and binary cross entropy loss function \n",
        "optimizer = tf.keras.optimizers.Adam(0.001)\n",
        "model1.compile(loss='binary_crossentropy',optimizer=optimizer,metrics=['accuracy'])"
      ],
      "metadata": {
        "id": "4aeU7OJO1iXW"
      },
      "execution_count": 29,
      "outputs": []
    },
    {
      "cell_type": "code",
      "source": [
        "model1.summary()"
      ],
      "metadata": {
        "colab": {
          "base_uri": "https://localhost:8080/"
        },
        "id": "kt2GaHmG1q2a",
        "outputId": "bf9ad5d5-8c78-4fa9-91a1-ae8cfb7cf895"
      },
      "execution_count": 30,
      "outputs": [
        {
          "output_type": "stream",
          "name": "stdout",
          "text": [
            "Model: \"sequential\"\n",
            "_________________________________________________________________\n",
            " Layer (type)                Output Shape              Param #   \n",
            "=================================================================\n",
            " dense (Dense)               (None, 256)               2304      \n",
            "                                                                 \n",
            " dense_1 (Dense)             (None, 128)               32896     \n",
            "                                                                 \n",
            " dense_2 (Dense)             (None, 64)                8256      \n",
            "                                                                 \n",
            " dense_3 (Dense)             (None, 32)                2080      \n",
            "                                                                 \n",
            " dense_4 (Dense)             (None, 1)                 33        \n",
            "                                                                 \n",
            "=================================================================\n",
            "Total params: 45,569\n",
            "Trainable params: 45,569\n",
            "Non-trainable params: 0\n",
            "_________________________________________________________________\n"
          ]
        }
      ]
    },
    {
      "cell_type": "code",
      "source": [
        "history1 = model1.fit(X_train,y_train,batch_size=64,epochs=50,verbose=1,validation_split = 0.2)"
      ],
      "metadata": {
        "colab": {
          "base_uri": "https://localhost:8080/"
        },
        "id": "Friito9v1vXg",
        "outputId": "3b076039-96ef-46c8-afbb-c790db87b94e"
      },
      "execution_count": 31,
      "outputs": [
        {
          "output_type": "stream",
          "name": "stdout",
          "text": [
            "Epoch 1/50\n",
            "7/7 [==============================] - 1s 68ms/step - loss: 11.8742 - accuracy: 0.5758 - val_loss: 13.4021 - val_accuracy: 0.4074\n",
            "Epoch 2/50\n",
            "7/7 [==============================] - 0s 7ms/step - loss: 8.2702 - accuracy: 0.5711 - val_loss: 4.1411 - val_accuracy: 0.6296\n",
            "Epoch 3/50\n",
            "7/7 [==============================] - 0s 12ms/step - loss: 6.3435 - accuracy: 0.5874 - val_loss: 4.3253 - val_accuracy: 0.6574\n",
            "Epoch 4/50\n",
            "7/7 [==============================] - 0s 5ms/step - loss: 3.7196 - accuracy: 0.5874 - val_loss: 5.8892 - val_accuracy: 0.6389\n",
            "Epoch 5/50\n",
            "7/7 [==============================] - 0s 5ms/step - loss: 4.2379 - accuracy: 0.5781 - val_loss: 2.8357 - val_accuracy: 0.6204\n",
            "Epoch 6/50\n",
            "7/7 [==============================] - 0s 4ms/step - loss: 2.6526 - accuracy: 0.6620 - val_loss: 0.8969 - val_accuracy: 0.7778\n",
            "Epoch 7/50\n",
            "7/7 [==============================] - 0s 4ms/step - loss: 1.5113 - accuracy: 0.6410 - val_loss: 0.8844 - val_accuracy: 0.7593\n",
            "Epoch 8/50\n",
            "7/7 [==============================] - 0s 4ms/step - loss: 1.2181 - accuracy: 0.6550 - val_loss: 1.7835 - val_accuracy: 0.6667\n",
            "Epoch 9/50\n",
            "7/7 [==============================] - 0s 5ms/step - loss: 1.4890 - accuracy: 0.6014 - val_loss: 1.8906 - val_accuracy: 0.6296\n",
            "Epoch 10/50\n",
            "7/7 [==============================] - 0s 5ms/step - loss: 1.6364 - accuracy: 0.5967 - val_loss: 1.3742 - val_accuracy: 0.6759\n",
            "Epoch 11/50\n",
            "7/7 [==============================] - 0s 5ms/step - loss: 1.1587 - accuracy: 0.6573 - val_loss: 0.8956 - val_accuracy: 0.7407\n",
            "Epoch 12/50\n",
            "7/7 [==============================] - 0s 5ms/step - loss: 1.0335 - accuracy: 0.6550 - val_loss: 0.6539 - val_accuracy: 0.7407\n",
            "Epoch 13/50\n",
            "7/7 [==============================] - 0s 5ms/step - loss: 1.2371 - accuracy: 0.6387 - val_loss: 1.5045 - val_accuracy: 0.4722\n",
            "Epoch 14/50\n",
            "7/7 [==============================] - 0s 5ms/step - loss: 1.1234 - accuracy: 0.6154 - val_loss: 0.8388 - val_accuracy: 0.6389\n",
            "Epoch 15/50\n",
            "7/7 [==============================] - 0s 5ms/step - loss: 0.8157 - accuracy: 0.6923 - val_loss: 1.1525 - val_accuracy: 0.6111\n",
            "Epoch 16/50\n",
            "7/7 [==============================] - 0s 24ms/step - loss: 0.8662 - accuracy: 0.6690 - val_loss: 1.1718 - val_accuracy: 0.7037\n",
            "Epoch 17/50\n",
            "7/7 [==============================] - 0s 26ms/step - loss: 0.9987 - accuracy: 0.6527 - val_loss: 0.8267 - val_accuracy: 0.6759\n",
            "Epoch 18/50\n",
            "7/7 [==============================] - 0s 24ms/step - loss: 0.8102 - accuracy: 0.6876 - val_loss: 0.9326 - val_accuracy: 0.5833\n",
            "Epoch 19/50\n",
            "7/7 [==============================] - 0s 12ms/step - loss: 0.7396 - accuracy: 0.6643 - val_loss: 0.8670 - val_accuracy: 0.6667\n",
            "Epoch 20/50\n",
            "7/7 [==============================] - 0s 9ms/step - loss: 0.7496 - accuracy: 0.6830 - val_loss: 0.8809 - val_accuracy: 0.6481\n",
            "Epoch 21/50\n",
            "7/7 [==============================] - 0s 5ms/step - loss: 0.6993 - accuracy: 0.6900 - val_loss: 0.8194 - val_accuracy: 0.6389\n",
            "Epoch 22/50\n",
            "7/7 [==============================] - 0s 7ms/step - loss: 0.7607 - accuracy: 0.6713 - val_loss: 0.9343 - val_accuracy: 0.6389\n",
            "Epoch 23/50\n",
            "7/7 [==============================] - 0s 5ms/step - loss: 0.8000 - accuracy: 0.6830 - val_loss: 0.7245 - val_accuracy: 0.7130\n",
            "Epoch 24/50\n",
            "7/7 [==============================] - 0s 5ms/step - loss: 0.6428 - accuracy: 0.7110 - val_loss: 1.3481 - val_accuracy: 0.7315\n",
            "Epoch 25/50\n",
            "7/7 [==============================] - 0s 6ms/step - loss: 0.7778 - accuracy: 0.7063 - val_loss: 1.3402 - val_accuracy: 0.5648\n",
            "Epoch 26/50\n",
            "7/7 [==============================] - 0s 5ms/step - loss: 0.7669 - accuracy: 0.6783 - val_loss: 0.7651 - val_accuracy: 0.6389\n",
            "Epoch 27/50\n",
            "7/7 [==============================] - 0s 5ms/step - loss: 0.6093 - accuracy: 0.7179 - val_loss: 0.8303 - val_accuracy: 0.6852\n",
            "Epoch 28/50\n",
            "7/7 [==============================] - 0s 4ms/step - loss: 0.9613 - accuracy: 0.6690 - val_loss: 1.3315 - val_accuracy: 0.6481\n",
            "Epoch 29/50\n",
            "7/7 [==============================] - 0s 8ms/step - loss: 0.8471 - accuracy: 0.6946 - val_loss: 0.8151 - val_accuracy: 0.6852\n",
            "Epoch 30/50\n",
            "7/7 [==============================] - 0s 8ms/step - loss: 0.7077 - accuracy: 0.6876 - val_loss: 1.1941 - val_accuracy: 0.6204\n",
            "Epoch 31/50\n",
            "7/7 [==============================] - 0s 5ms/step - loss: 1.1642 - accuracy: 0.6807 - val_loss: 1.0845 - val_accuracy: 0.7222\n",
            "Epoch 32/50\n",
            "7/7 [==============================] - 0s 5ms/step - loss: 1.2181 - accuracy: 0.6131 - val_loss: 1.7323 - val_accuracy: 0.5648\n",
            "Epoch 33/50\n",
            "7/7 [==============================] - 0s 5ms/step - loss: 1.1372 - accuracy: 0.6783 - val_loss: 1.2190 - val_accuracy: 0.6667\n",
            "Epoch 34/50\n",
            "7/7 [==============================] - 0s 5ms/step - loss: 0.8650 - accuracy: 0.7179 - val_loss: 1.6428 - val_accuracy: 0.6296\n",
            "Epoch 35/50\n",
            "7/7 [==============================] - 0s 5ms/step - loss: 0.8376 - accuracy: 0.7086 - val_loss: 0.6558 - val_accuracy: 0.7130\n",
            "Epoch 36/50\n",
            "7/7 [==============================] - 0s 6ms/step - loss: 0.5820 - accuracy: 0.7086 - val_loss: 0.7776 - val_accuracy: 0.7222\n",
            "Epoch 37/50\n",
            "7/7 [==============================] - 0s 5ms/step - loss: 0.6054 - accuracy: 0.7413 - val_loss: 0.8628 - val_accuracy: 0.6481\n",
            "Epoch 38/50\n",
            "7/7 [==============================] - 0s 5ms/step - loss: 0.6458 - accuracy: 0.7296 - val_loss: 1.2133 - val_accuracy: 0.6389\n",
            "Epoch 39/50\n",
            "7/7 [==============================] - 0s 5ms/step - loss: 0.9324 - accuracy: 0.6527 - val_loss: 1.2319 - val_accuracy: 0.5833\n",
            "Epoch 40/50\n",
            "7/7 [==============================] - 0s 5ms/step - loss: 0.7910 - accuracy: 0.6970 - val_loss: 0.6572 - val_accuracy: 0.6944\n",
            "Epoch 41/50\n",
            "7/7 [==============================] - 0s 6ms/step - loss: 0.5695 - accuracy: 0.7226 - val_loss: 0.7498 - val_accuracy: 0.6759\n",
            "Epoch 42/50\n",
            "7/7 [==============================] - 0s 8ms/step - loss: 0.5790 - accuracy: 0.7296 - val_loss: 0.7309 - val_accuracy: 0.7407\n",
            "Epoch 43/50\n",
            "7/7 [==============================] - 0s 5ms/step - loss: 0.5462 - accuracy: 0.7552 - val_loss: 1.0353 - val_accuracy: 0.5648\n",
            "Epoch 44/50\n",
            "7/7 [==============================] - 0s 5ms/step - loss: 0.9891 - accuracy: 0.6270 - val_loss: 1.0024 - val_accuracy: 0.6481\n",
            "Epoch 45/50\n",
            "7/7 [==============================] - 0s 5ms/step - loss: 0.8449 - accuracy: 0.7133 - val_loss: 0.8810 - val_accuracy: 0.6111\n",
            "Epoch 46/50\n",
            "7/7 [==============================] - 0s 4ms/step - loss: 0.6144 - accuracy: 0.7249 - val_loss: 0.7971 - val_accuracy: 0.6667\n",
            "Epoch 47/50\n",
            "7/7 [==============================] - 0s 5ms/step - loss: 0.5318 - accuracy: 0.7576 - val_loss: 0.7710 - val_accuracy: 0.7037\n",
            "Epoch 48/50\n",
            "7/7 [==============================] - 0s 5ms/step - loss: 0.6268 - accuracy: 0.7413 - val_loss: 0.9155 - val_accuracy: 0.6944\n",
            "Epoch 49/50\n",
            "7/7 [==============================] - 0s 5ms/step - loss: 0.7075 - accuracy: 0.7249 - val_loss: 1.1396 - val_accuracy: 0.5741\n",
            "Epoch 50/50\n",
            "7/7 [==============================] - 0s 5ms/step - loss: 0.7929 - accuracy: 0.6830 - val_loss: 0.9451 - val_accuracy: 0.6759\n"
          ]
        }
      ]
    },
    {
      "cell_type": "code",
      "source": [
        "# Plotting accuracy at different epochs\n",
        "plt.plot(history1.history['accuracy'])\n",
        "plt.plot(history1.history['val_accuracy'])\n",
        "plt.title('Accuracy vs Epochs')\n",
        "plt.ylabel('Accuracy')\n",
        "plt.xlabel('Epoch')\n",
        "plt.legend(['Train', 'Validation'], loc='lower right')\n",
        "plt.show()"
      ],
      "metadata": {
        "colab": {
          "base_uri": "https://localhost:8080/",
          "height": 295
        },
        "id": "Sw870WPP1yhM",
        "outputId": "99dc378c-0f6e-4527-f6e2-06bb6664676b"
      },
      "execution_count": 32,
      "outputs": [
        {
          "output_type": "display_data",
          "data": {
            "text/plain": [
              "<Figure size 432x288 with 1 Axes>"
            ],
            "image/png": "[encoded data removed]"
          },
          "metadata": {
            "needs_background": "light"
          }
        }
      ]
    },
    {
      "cell_type": "markdown",
      "source": [
        "As shown above, the accuracy of both training set and validation set has been reduced in the second model, to about 0.68."
      ],
      "metadata": {
        "id": "dQjjxtut2wcp"
      }
    },
    {
      "cell_type": "markdown",
      "source": [
        "**Let's tune the threshold using ROC-AUC**\n",
        "\n",
        "\n",
        "The Geometric Mean or G-Mean is a metric for imbalanced classification that, if optimized, will seek a balance between the sensitivity and the specificity.\n",
        "\n",
        "G-Mean = sqrt(Sensitivity * Specificity)\n",
        "\n",
        "One approach would be to test the model with each threshold returned from the call roc_auc_score(), \n",
        "\n",
        "and select the threshold with the **largest G-Mean value.**"
      ],
      "metadata": {
        "id": "n_K9Q1yx26qw"
      }
    },
    {
      "cell_type": "code",
      "source": [
        "from sklearn.metrics import roc_curve\n",
        "\n",
        "from matplotlib import pyplot\n",
        "\n",
        "\n",
        "# predict probabilities\n",
        "yhat1 = model1.predict(X_test)\n",
        "# keep probabilities for the positive outcome only\n",
        "yhat1 = yhat1[:, 0]\n",
        "# calculate roc curves\n",
        "fpr, tpr, thresholds1 = roc_curve(y_test, yhat1)\n",
        "# calculate the g-mean for each threshold\n",
        "gmeans1 = np.sqrt(tpr * (1-fpr))\n",
        "# locate the index of the largest g-mean\n",
        "ix = np.argmax(gmeans1)\n",
        "print('Best Threshold=%f, G-Mean=%.3f' % (thresholds1[ix], gmeans1[ix]))\n",
        "# plot the roc curve for the model\n",
        "pyplot.plot([0,1], [0,1], linestyle='--', label='No Skill')\n",
        "pyplot.plot(fpr, tpr, marker='.')\n",
        "pyplot.scatter(fpr[ix], tpr[ix], marker='o', color='black', label='Best')\n",
        "# axis labels\n",
        "pyplot.xlabel('False Positive Rate')\n",
        "pyplot.ylabel('True Positive Rate')\n",
        "pyplot.legend()\n",
        "# show the plot\n",
        "pyplot.show()"
      ],
      "metadata": {
        "colab": {
          "base_uri": "https://localhost:8080/",
          "height": 296
        },
        "id": "bbfhrObo1-y2",
        "outputId": "1fd052b2-7b5d-4de7-8fe3-babea29fa801"
      },
      "execution_count": 33,
      "outputs": [
        {
          "output_type": "stream",
          "name": "stdout",
          "text": [
            "Best Threshold=0.144453, G-Mean=0.638\n"
          ]
        },
        {
          "output_type": "display_data",
          "data": {
            "text/plain": [
              "<Figure size 432x288 with 1 Axes>"
            ],
            "image/png": "[encoded data removed]"
          },
          "metadata": {
            "needs_background": "light"
          }
        }
      ]
    },
    {
      "cell_type": "code",
      "source": [
        "#Predicting the results using best as a threshold\n",
        "y_pred_e1=model1.predict(X_test)\n",
        "y_pred_e1 = (y_pred_e1 > thresholds1[ix])\n",
        "y_pred_e1"
      ],
      "metadata": {
        "colab": {
          "base_uri": "https://localhost:8080/"
        },
        "id": "p6si-iRL3Lxd",
        "outputId": "2f2502fa-825e-4b67-f042-d2eb621fb457"
      },
      "execution_count": 34,
      "outputs": [
        {
          "output_type": "execute_result",
          "data": {
            "text/plain": [
              "array([[ True],\n",
              "       [False],\n",
              "       [False],\n",
              "       [False],\n",
              "       [False],\n",
              "       [False],\n",
              "       [False],\n",
              "       [ True],\n",
              "       [False],\n",
              "       [False],\n",
              "       [ True],\n",
              "       [False],\n",
              "       [False],\n",
              "       [False],\n",
              "       [False],\n",
              "       [ True],\n",
              "       [ True],\n",
              "       [False],\n",
              "       [False],\n",
              "       [False],\n",
              "       [False],\n",
              "       [ True],\n",
              "       [ True],\n",
              "       [ True],\n",
              "       [False],\n",
              "       [ True],\n",
              "       [ True],\n",
              "       [ True],\n",
              "       [False],\n",
              "       [ True],\n",
              "       [ True],\n",
              "       [ True],\n",
              "       [ True],\n",
              "       [False],\n",
              "       [ True],\n",
              "       [False],\n",
              "       [ True],\n",
              "       [False],\n",
              "       [ True],\n",
              "       [ True],\n",
              "       [False],\n",
              "       [ True],\n",
              "       [False],\n",
              "       [ True],\n",
              "       [False],\n",
              "       [False],\n",
              "       [False],\n",
              "       [ True],\n",
              "       [ True],\n",
              "       [ True],\n",
              "       [ True],\n",
              "       [ True],\n",
              "       [False],\n",
              "       [ True],\n",
              "       [ True],\n",
              "       [ True],\n",
              "       [False],\n",
              "       [False],\n",
              "       [False],\n",
              "       [ True],\n",
              "       [ True],\n",
              "       [ True],\n",
              "       [False],\n",
              "       [ True],\n",
              "       [ True],\n",
              "       [ True],\n",
              "       [False],\n",
              "       [ True],\n",
              "       [False],\n",
              "       [False],\n",
              "       [False],\n",
              "       [ True],\n",
              "       [ True],\n",
              "       [False],\n",
              "       [ True],\n",
              "       [ True],\n",
              "       [False],\n",
              "       [False],\n",
              "       [ True],\n",
              "       [False],\n",
              "       [False],\n",
              "       [False],\n",
              "       [False],\n",
              "       [ True],\n",
              "       [False],\n",
              "       [False],\n",
              "       [ True],\n",
              "       [False],\n",
              "       [False],\n",
              "       [False],\n",
              "       [ True],\n",
              "       [False],\n",
              "       [False],\n",
              "       [ True],\n",
              "       [False],\n",
              "       [False],\n",
              "       [ True],\n",
              "       [False],\n",
              "       [False],\n",
              "       [False],\n",
              "       [ True],\n",
              "       [False],\n",
              "       [ True],\n",
              "       [False],\n",
              "       [False],\n",
              "       [False],\n",
              "       [False],\n",
              "       [False],\n",
              "       [False],\n",
              "       [ True],\n",
              "       [False],\n",
              "       [ True],\n",
              "       [False],\n",
              "       [False],\n",
              "       [ True],\n",
              "       [ True],\n",
              "       [ True],\n",
              "       [ True],\n",
              "       [False],\n",
              "       [ True],\n",
              "       [ True],\n",
              "       [ True],\n",
              "       [False],\n",
              "       [ True],\n",
              "       [ True],\n",
              "       [ True],\n",
              "       [False],\n",
              "       [False],\n",
              "       [False],\n",
              "       [False],\n",
              "       [ True],\n",
              "       [False],\n",
              "       [False],\n",
              "       [ True],\n",
              "       [ True],\n",
              "       [ True],\n",
              "       [False],\n",
              "       [False],\n",
              "       [False],\n",
              "       [False],\n",
              "       [ True],\n",
              "       [False],\n",
              "       [False],\n",
              "       [False],\n",
              "       [ True],\n",
              "       [ True],\n",
              "       [ True],\n",
              "       [ True],\n",
              "       [False],\n",
              "       [ True],\n",
              "       [False],\n",
              "       [False],\n",
              "       [False],\n",
              "       [False],\n",
              "       [False],\n",
              "       [ True],\n",
              "       [False],\n",
              "       [ True],\n",
              "       [False],\n",
              "       [ True],\n",
              "       [ True],\n",
              "       [False],\n",
              "       [False],\n",
              "       [ True],\n",
              "       [False],\n",
              "       [False],\n",
              "       [ True],\n",
              "       [ True],\n",
              "       [False],\n",
              "       [False],\n",
              "       [False],\n",
              "       [False],\n",
              "       [False],\n",
              "       [ True],\n",
              "       [ True],\n",
              "       [False],\n",
              "       [ True],\n",
              "       [False],\n",
              "       [ True],\n",
              "       [False],\n",
              "       [False],\n",
              "       [False],\n",
              "       [ True],\n",
              "       [ True],\n",
              "       [False],\n",
              "       [False],\n",
              "       [False],\n",
              "       [False],\n",
              "       [False],\n",
              "       [False],\n",
              "       [ True],\n",
              "       [ True],\n",
              "       [False],\n",
              "       [False],\n",
              "       [ True],\n",
              "       [False],\n",
              "       [False],\n",
              "       [ True],\n",
              "       [False],\n",
              "       [ True],\n",
              "       [False],\n",
              "       [False],\n",
              "       [ True],\n",
              "       [ True],\n",
              "       [ True],\n",
              "       [ True],\n",
              "       [False],\n",
              "       [ True],\n",
              "       [False],\n",
              "       [False],\n",
              "       [ True],\n",
              "       [ True],\n",
              "       [False],\n",
              "       [False],\n",
              "       [ True],\n",
              "       [ True],\n",
              "       [False],\n",
              "       [False],\n",
              "       [ True],\n",
              "       [ True],\n",
              "       [ True],\n",
              "       [False],\n",
              "       [False],\n",
              "       [False],\n",
              "       [False],\n",
              "       [ True],\n",
              "       [ True],\n",
              "       [False],\n",
              "       [False],\n",
              "       [False],\n",
              "       [ True]])"
            ]
          },
          "metadata": {},
          "execution_count": 34
        }
      ]
    },
    {
      "cell_type": "code",
      "source": [
        "#Calculating the confusion matrix \n",
        "from sklearn.metrics import confusion_matrix\n",
        "cm1=confusion_matrix(y_test, y_pred_e1)\n",
        "labels =['True Negative','False Positive','False Negative','True Positive']\n",
        "categories = [ 'Not Changing Job','Changing Job']\n",
        "make_confusion_matrix(cm1, \n",
        "                      group_names=labels,\n",
        "                      categories=categories, \n",
        "                      cmap='Blues')"
      ],
      "metadata": {
        "colab": {
          "base_uri": "https://localhost:8080/",
          "height": 265
        },
        "id": "MqcWVPdh3Oj3",
        "outputId": "5c5ecd05-4888-4a83-9dd9-c4ba6f475adc"
      },
      "execution_count": 37,
      "outputs": [
        {
          "output_type": "display_data",
          "data": {
            "text/plain": [
              "<Figure size 432x288 with 2 Axes>"
            ],
            "image/png": "[encoded data removed]"
          },
          "metadata": {
            "needs_background": "light"
          }
        }
      ]
    },
    {
      "cell_type": "code",
      "source": [
        "#Accuracy as per the classification report \n",
        "from sklearn import metrics\n",
        "cr=metrics.classification_report(y_test,y_pred_e1)\n",
        "print(cr)"
      ],
      "metadata": {
        "id": "hiepvsw-3Qlm",
        "colab": {
          "base_uri": "https://localhost:8080/"
        },
        "outputId": "fdd8a0c3-d7c9-476e-ec64-372a7324df89"
      },
      "execution_count": 38,
      "outputs": [
        {
          "output_type": "stream",
          "name": "stdout",
          "text": [
            "              precision    recall  f1-score   support\n",
            "\n",
            "           0       0.76      0.65      0.70       150\n",
            "           1       0.49      0.62      0.54        81\n",
            "\n",
            "    accuracy                           0.64       231\n",
            "   macro avg       0.62      0.63      0.62       231\n",
            "weighted avg       0.66      0.64      0.64       231\n",
            "\n"
          ]
        }
      ]
    },
    {
      "cell_type": "markdown",
      "source": [
        "As is shown above, in the second model, False Negatives have been reduced to about 13% (from 20%) and recalls have increased to 0.62."
      ],
      "metadata": {
        "id": "vrRcHLXA9PGI"
      }
    },
    {
      "cell_type": "markdown",
      "source": [
        "In the next model, I will try to use the Batch Normalization technique and check to see if any of the scores can be improved."
      ],
      "metadata": {
        "id": "Nh3tpKps9jOv"
      }
    },
    {
      "cell_type": "markdown",
      "source": [
        "### Model 3"
      ],
      "metadata": {
        "id": "-M5neXJaJR5W"
      }
    },
    {
      "cell_type": "code",
      "source": [
        "backend.clear_session()\n",
        "np.random.seed(42)\n",
        "import random\n",
        "random.seed(42)\n",
        "tf.random.set_seed(42)"
      ],
      "metadata": {
        "id": "WxCR4rRlHT0K"
      },
      "execution_count": 39,
      "outputs": []
    },
    {
      "cell_type": "code",
      "source": [
        "model2 = Sequential()\n",
        "model2.add(Dense(128,activation='relu',input_dim = 8))\n",
        "model2.add(BatchNormalization())\n",
        "model2.add(Dense(64,activation='relu',kernel_initializer='he_uniform'))\n",
        "model2.add(BatchNormalization())\n",
        "model2.add(Dense(32,activation='relu',kernel_initializer='he_uniform'))\n",
        "model2.add(Dense(1, activation = 'sigmoid'))"
      ],
      "metadata": {
        "id": "s9sQZnuJJ668"
      },
      "execution_count": 40,
      "outputs": []
    },
    {
      "cell_type": "code",
      "source": [
        "model2.summary()"
      ],
      "metadata": {
        "colab": {
          "base_uri": "https://localhost:8080/"
        },
        "id": "FNbM7um5J-rd",
        "outputId": "175ab321-d8de-4669-d748-a13afd6cded8"
      },
      "execution_count": 41,
      "outputs": [
        {
          "output_type": "stream",
          "name": "stdout",
          "text": [
            "Model: \"sequential\"\n",
            "_________________________________________________________________\n",
            " Layer (type)                Output Shape              Param #   \n",
            "=================================================================\n",
            " dense (Dense)               (None, 128)               1152      \n",
            "                                                                 \n",
            " batch_normalization (BatchN  (None, 128)              512       \n",
            " ormalization)                                                   \n",
            "                                                                 \n",
            " dense_1 (Dense)             (None, 64)                8256      \n",
            "                                                                 \n",
            " batch_normalization_1 (Batc  (None, 64)               256       \n",
            " hNormalization)                                                 \n",
            "                                                                 \n",
            " dense_2 (Dense)             (None, 32)                2080      \n",
            "                                                                 \n",
            " dense_3 (Dense)             (None, 1)                 33        \n",
            "                                                                 \n",
            "=================================================================\n",
            "Total params: 12,289\n",
            "Trainable params: 11,905\n",
            "Non-trainable params: 384\n",
            "_________________________________________________________________\n"
          ]
        }
      ]
    },
    {
      "cell_type": "code",
      "source": [
        "optimizer = tf.keras.optimizers.Adam(0.001)\n",
        "model2.compile(loss='binary_crossentropy',optimizer=optimizer,metrics=['accuracy'])"
      ],
      "metadata": {
        "id": "xSuMJ8GNKAUo"
      },
      "execution_count": 42,
      "outputs": []
    },
    {
      "cell_type": "code",
      "source": [
        "history_2 = model2.fit(X_train,y_train,batch_size=64,epochs=50,verbose=1,validation_split = 0.2)"
      ],
      "metadata": {
        "colab": {
          "base_uri": "https://localhost:8080/"
        },
        "id": "qg0_NLP_KCzM",
        "outputId": "d1be9fe7-dabb-4a11-caef-ce25db37b082"
      },
      "execution_count": 43,
      "outputs": [
        {
          "output_type": "stream",
          "name": "stdout",
          "text": [
            "Epoch 1/50\n",
            "7/7 [==============================] - 1s 29ms/step - loss: 0.6978 - accuracy: 0.5758 - val_loss: 2.3901 - val_accuracy: 0.3981\n",
            "Epoch 2/50\n",
            "7/7 [==============================] - 0s 5ms/step - loss: 0.5080 - accuracy: 0.7483 - val_loss: 2.6537 - val_accuracy: 0.3981\n",
            "Epoch 3/50\n",
            "7/7 [==============================] - 0s 5ms/step - loss: 0.4687 - accuracy: 0.7599 - val_loss: 2.3901 - val_accuracy: 0.3981\n",
            "Epoch 4/50\n",
            "7/7 [==============================] - 0s 4ms/step - loss: 0.4478 - accuracy: 0.7786 - val_loss: 2.2309 - val_accuracy: 0.3981\n",
            "Epoch 5/50\n",
            "7/7 [==============================] - 0s 5ms/step - loss: 0.4397 - accuracy: 0.7902 - val_loss: 2.1310 - val_accuracy: 0.3981\n",
            "Epoch 6/50\n",
            "7/7 [==============================] - 0s 5ms/step - loss: 0.4150 - accuracy: 0.8112 - val_loss: 2.0293 - val_accuracy: 0.3981\n",
            "Epoch 7/50\n",
            "7/7 [==============================] - 0s 5ms/step - loss: 0.4135 - accuracy: 0.8019 - val_loss: 1.8534 - val_accuracy: 0.3981\n",
            "Epoch 8/50\n",
            "7/7 [==============================] - 0s 4ms/step - loss: 0.4171 - accuracy: 0.7809 - val_loss: 1.5862 - val_accuracy: 0.3981\n",
            "Epoch 9/50\n",
            "7/7 [==============================] - 0s 5ms/step - loss: 0.4036 - accuracy: 0.8298 - val_loss: 1.3559 - val_accuracy: 0.3981\n",
            "Epoch 10/50\n",
            "7/7 [==============================] - 0s 5ms/step - loss: 0.3964 - accuracy: 0.8205 - val_loss: 1.2631 - val_accuracy: 0.4074\n",
            "Epoch 11/50\n",
            "7/7 [==============================] - 0s 5ms/step - loss: 0.3884 - accuracy: 0.8205 - val_loss: 1.2924 - val_accuracy: 0.4074\n",
            "Epoch 12/50\n",
            "7/7 [==============================] - 0s 5ms/step - loss: 0.3995 - accuracy: 0.8089 - val_loss: 1.2292 - val_accuracy: 0.4074\n",
            "Epoch 13/50\n",
            "7/7 [==============================] - 0s 5ms/step - loss: 0.4005 - accuracy: 0.8159 - val_loss: 1.1258 - val_accuracy: 0.4074\n",
            "Epoch 14/50\n",
            "7/7 [==============================] - 0s 6ms/step - loss: 0.3855 - accuracy: 0.8182 - val_loss: 1.0854 - val_accuracy: 0.4259\n",
            "Epoch 15/50\n",
            "7/7 [==============================] - 0s 5ms/step - loss: 0.3824 - accuracy: 0.8135 - val_loss: 1.0103 - val_accuracy: 0.4352\n",
            "Epoch 16/50\n",
            "7/7 [==============================] - 0s 4ms/step - loss: 0.3701 - accuracy: 0.8415 - val_loss: 0.9055 - val_accuracy: 0.4630\n",
            "Epoch 17/50\n",
            "7/7 [==============================] - 0s 4ms/step - loss: 0.3631 - accuracy: 0.8298 - val_loss: 0.8660 - val_accuracy: 0.4722\n",
            "Epoch 18/50\n",
            "7/7 [==============================] - 0s 4ms/step - loss: 0.3591 - accuracy: 0.8298 - val_loss: 0.8058 - val_accuracy: 0.5185\n",
            "Epoch 19/50\n",
            "7/7 [==============================] - 0s 5ms/step - loss: 0.3617 - accuracy: 0.8252 - val_loss: 0.7744 - val_accuracy: 0.5370\n",
            "Epoch 20/50\n",
            "7/7 [==============================] - 0s 5ms/step - loss: 0.3553 - accuracy: 0.8415 - val_loss: 0.7609 - val_accuracy: 0.5463\n",
            "Epoch 21/50\n",
            "7/7 [==============================] - 0s 6ms/step - loss: 0.3409 - accuracy: 0.8508 - val_loss: 0.6948 - val_accuracy: 0.6296\n",
            "Epoch 22/50\n",
            "7/7 [==============================] - 0s 5ms/step - loss: 0.3548 - accuracy: 0.8392 - val_loss: 0.6674 - val_accuracy: 0.6481\n",
            "Epoch 23/50\n",
            "7/7 [==============================] - 0s 5ms/step - loss: 0.3368 - accuracy: 0.8392 - val_loss: 0.6280 - val_accuracy: 0.6944\n",
            "Epoch 24/50\n",
            "7/7 [==============================] - 0s 5ms/step - loss: 0.3384 - accuracy: 0.8392 - val_loss: 0.6392 - val_accuracy: 0.6852\n",
            "Epoch 25/50\n",
            "7/7 [==============================] - 0s 5ms/step - loss: 0.3450 - accuracy: 0.8275 - val_loss: 0.5998 - val_accuracy: 0.7222\n",
            "Epoch 26/50\n",
            "7/7 [==============================] - 0s 5ms/step - loss: 0.3582 - accuracy: 0.8368 - val_loss: 0.6367 - val_accuracy: 0.6574\n",
            "Epoch 27/50\n",
            "7/7 [==============================] - 0s 8ms/step - loss: 0.3355 - accuracy: 0.8392 - val_loss: 0.6468 - val_accuracy: 0.6574\n",
            "Epoch 28/50\n",
            "7/7 [==============================] - 0s 5ms/step - loss: 0.3375 - accuracy: 0.8438 - val_loss: 0.5840 - val_accuracy: 0.6759\n",
            "Epoch 29/50\n",
            "7/7 [==============================] - 0s 5ms/step - loss: 0.3534 - accuracy: 0.8368 - val_loss: 0.5729 - val_accuracy: 0.6852\n",
            "Epoch 30/50\n",
            "7/7 [==============================] - 0s 5ms/step - loss: 0.3250 - accuracy: 0.8345 - val_loss: 0.5759 - val_accuracy: 0.7037\n",
            "Epoch 31/50\n",
            "7/7 [==============================] - 0s 5ms/step - loss: 0.3326 - accuracy: 0.8485 - val_loss: 0.5533 - val_accuracy: 0.7315\n",
            "Epoch 32/50\n",
            "7/7 [==============================] - 0s 5ms/step - loss: 0.3255 - accuracy: 0.8508 - val_loss: 0.5833 - val_accuracy: 0.7222\n",
            "Epoch 33/50\n",
            "7/7 [==============================] - 0s 5ms/step - loss: 0.3043 - accuracy: 0.8671 - val_loss: 0.5428 - val_accuracy: 0.7222\n",
            "Epoch 34/50\n",
            "7/7 [==============================] - 0s 5ms/step - loss: 0.3188 - accuracy: 0.8531 - val_loss: 0.5184 - val_accuracy: 0.7685\n",
            "Epoch 35/50\n",
            "7/7 [==============================] - 0s 5ms/step - loss: 0.3089 - accuracy: 0.8508 - val_loss: 0.5224 - val_accuracy: 0.7870\n",
            "Epoch 36/50\n",
            "7/7 [==============================] - 0s 6ms/step - loss: 0.3255 - accuracy: 0.8415 - val_loss: 0.5111 - val_accuracy: 0.7963\n",
            "Epoch 37/50\n",
            "7/7 [==============================] - 0s 8ms/step - loss: 0.3218 - accuracy: 0.8531 - val_loss: 0.5341 - val_accuracy: 0.7500\n",
            "Epoch 38/50\n",
            "7/7 [==============================] - 0s 5ms/step - loss: 0.3243 - accuracy: 0.8578 - val_loss: 0.6065 - val_accuracy: 0.7130\n",
            "Epoch 39/50\n",
            "7/7 [==============================] - 0s 5ms/step - loss: 0.3179 - accuracy: 0.8485 - val_loss: 0.5444 - val_accuracy: 0.7222\n",
            "Epoch 40/50\n",
            "7/7 [==============================] - 0s 5ms/step - loss: 0.3069 - accuracy: 0.8555 - val_loss: 0.6198 - val_accuracy: 0.7130\n",
            "Epoch 41/50\n",
            "7/7 [==============================] - 0s 5ms/step - loss: 0.3047 - accuracy: 0.8555 - val_loss: 0.5957 - val_accuracy: 0.7315\n",
            "Epoch 42/50\n",
            "7/7 [==============================] - 0s 5ms/step - loss: 0.3033 - accuracy: 0.8648 - val_loss: 0.5318 - val_accuracy: 0.7778\n",
            "Epoch 43/50\n",
            "7/7 [==============================] - 0s 5ms/step - loss: 0.3048 - accuracy: 0.8531 - val_loss: 0.5473 - val_accuracy: 0.7593\n",
            "Epoch 44/50\n",
            "7/7 [==============================] - 0s 5ms/step - loss: 0.3045 - accuracy: 0.8625 - val_loss: 0.5259 - val_accuracy: 0.7685\n",
            "Epoch 45/50\n",
            "7/7 [==============================] - 0s 5ms/step - loss: 0.2837 - accuracy: 0.8671 - val_loss: 0.5144 - val_accuracy: 0.7870\n",
            "Epoch 46/50\n",
            "7/7 [==============================] - 0s 4ms/step - loss: 0.3090 - accuracy: 0.8625 - val_loss: 0.5463 - val_accuracy: 0.7407\n",
            "Epoch 47/50\n",
            "7/7 [==============================] - 0s 5ms/step - loss: 0.2974 - accuracy: 0.8671 - val_loss: 0.5434 - val_accuracy: 0.7037\n",
            "Epoch 48/50\n",
            "7/7 [==============================] - 0s 5ms/step - loss: 0.2838 - accuracy: 0.8741 - val_loss: 0.5349 - val_accuracy: 0.7593\n",
            "Epoch 49/50\n",
            "7/7 [==============================] - 0s 6ms/step - loss: 0.2881 - accuracy: 0.8695 - val_loss: 0.5305 - val_accuracy: 0.7778\n",
            "Epoch 50/50\n",
            "7/7 [==============================] - 0s 5ms/step - loss: 0.2783 - accuracy: 0.8718 - val_loss: 0.5508 - val_accuracy: 0.7870\n"
          ]
        }
      ]
    },
    {
      "cell_type": "code",
      "source": [
        "# Plotting accuracy at different epochs\n",
        "plt.plot(history_2.history['accuracy'])\n",
        "plt.plot(history_2.history['val_accuracy'])\n",
        "plt.title('Accuracy vs Epochs')\n",
        "plt.ylabel('Accuracy')\n",
        "plt.xlabel('Epoch')\n",
        "plt.legend(['Train', 'Validation'], loc='lower right')\n",
        "plt.show()"
      ],
      "metadata": {
        "colab": {
          "base_uri": "https://localhost:8080/",
          "height": 295
        },
        "id": "9TMi72_oKEP_",
        "outputId": "7725e717-7634-4b43-f77e-b5162de74a0b"
      },
      "execution_count": 44,
      "outputs": [
        {
          "output_type": "display_data",
          "data": {
            "text/plain": [
              "<Figure size 432x288 with 1 Axes>"
            ],
            "image/png": "[encoded data removed]"
          },
          "metadata": {
            "needs_background": "light"
          }
        }
      ]
    },
    {
      "cell_type": "markdown",
      "source": [
        "From the above plot, it appears that the model is overfitting since the validation accuracy is not closely following the training accuracy."
      ],
      "metadata": {
        "id": "im90m8fx920d"
      }
    },
    {
      "cell_type": "code",
      "source": [
        "from sklearn.metrics import roc_curve\n",
        "\n",
        "from matplotlib import pyplot\n",
        "\n",
        "\n",
        "# predict probabilities\n",
        "yhat2 = model2.predict(X_test)\n",
        "# keep probabilities for the positive outcome only\n",
        "yhat2 = yhat2[:, 0]\n",
        "# calculate roc curves\n",
        "fpr, tpr, thresholds2 = roc_curve(y_test, yhat2)\n",
        "# calculate the g-mean for each threshold\n",
        "gmeans2 = np.sqrt(tpr * (1-fpr))\n",
        "# locate the index of the largest g-mean\n",
        "ix = np.argmax(gmeans2)\n",
        "print('Best Threshold=%f, G-Mean=%.3f' % (thresholds2[ix], gmeans2[ix]))\n",
        "# plot the roc curve for the model\n",
        "pyplot.plot([0,1], [0,1], linestyle='--', label='No Skill')\n",
        "pyplot.plot(fpr, tpr, marker='.')\n",
        "pyplot.scatter(fpr[ix], tpr[ix], marker='o', color='black', label='Best')\n",
        "# axis labels\n",
        "pyplot.xlabel('False Positive Rate')\n",
        "pyplot.ylabel('True Positive Rate')\n",
        "pyplot.legend()\n",
        "# show the plot\n",
        "pyplot.show()"
      ],
      "metadata": {
        "colab": {
          "base_uri": "https://localhost:8080/",
          "height": 296
        },
        "id": "Cgi9Ynq7KNWG",
        "outputId": "f8f68b2f-ceaa-4fc9-c275-1cf01e9ff9ab"
      },
      "execution_count": 45,
      "outputs": [
        {
          "output_type": "stream",
          "name": "stdout",
          "text": [
            "Best Threshold=0.450590, G-Mean=0.724\n"
          ]
        },
        {
          "output_type": "display_data",
          "data": {
            "text/plain": [
              "<Figure size 432x288 with 1 Axes>"
            ],
            "image/png": "[encoded data removed]"
          },
          "metadata": {
            "needs_background": "light"
          }
        }
      ]
    },
    {
      "cell_type": "code",
      "source": [
        "y_pred_e2=model2.predict(X_test)\n",
        "y_pred_e2 = (y_pred_e2 > thresholds2[ix])\n",
        "y_pred_e2"
      ],
      "metadata": {
        "colab": {
          "base_uri": "https://localhost:8080/"
        },
        "id": "mXICsBzBKZIW",
        "outputId": "3a06f8ec-17c4-4129-c182-9cf5c8819d0c"
      },
      "execution_count": 46,
      "outputs": [
        {
          "output_type": "execute_result",
          "data": {
            "text/plain": [
              "array([[False],\n",
              "       [False],\n",
              "       [False],\n",
              "       [False],\n",
              "       [False],\n",
              "       [False],\n",
              "       [ True],\n",
              "       [False],\n",
              "       [ True],\n",
              "       [False],\n",
              "       [False],\n",
              "       [ True],\n",
              "       [False],\n",
              "       [ True],\n",
              "       [False],\n",
              "       [False],\n",
              "       [False],\n",
              "       [False],\n",
              "       [False],\n",
              "       [False],\n",
              "       [False],\n",
              "       [False],\n",
              "       [ True],\n",
              "       [ True],\n",
              "       [ True],\n",
              "       [ True],\n",
              "       [False],\n",
              "       [False],\n",
              "       [ True],\n",
              "       [ True],\n",
              "       [False],\n",
              "       [ True],\n",
              "       [ True],\n",
              "       [False],\n",
              "       [False],\n",
              "       [False],\n",
              "       [False],\n",
              "       [False],\n",
              "       [ True],\n",
              "       [False],\n",
              "       [False],\n",
              "       [False],\n",
              "       [False],\n",
              "       [ True],\n",
              "       [False],\n",
              "       [False],\n",
              "       [ True],\n",
              "       [ True],\n",
              "       [ True],\n",
              "       [False],\n",
              "       [False],\n",
              "       [False],\n",
              "       [ True],\n",
              "       [ True],\n",
              "       [False],\n",
              "       [ True],\n",
              "       [False],\n",
              "       [False],\n",
              "       [False],\n",
              "       [ True],\n",
              "       [ True],\n",
              "       [ True],\n",
              "       [ True],\n",
              "       [False],\n",
              "       [ True],\n",
              "       [False],\n",
              "       [False],\n",
              "       [ True],\n",
              "       [False],\n",
              "       [ True],\n",
              "       [ True],\n",
              "       [False],\n",
              "       [ True],\n",
              "       [ True],\n",
              "       [False],\n",
              "       [False],\n",
              "       [False],\n",
              "       [False],\n",
              "       [False],\n",
              "       [ True],\n",
              "       [False],\n",
              "       [False],\n",
              "       [False],\n",
              "       [False],\n",
              "       [False],\n",
              "       [False],\n",
              "       [ True],\n",
              "       [False],\n",
              "       [ True],\n",
              "       [False],\n",
              "       [False],\n",
              "       [False],\n",
              "       [False],\n",
              "       [ True],\n",
              "       [ True],\n",
              "       [False],\n",
              "       [ True],\n",
              "       [ True],\n",
              "       [False],\n",
              "       [ True],\n",
              "       [ True],\n",
              "       [False],\n",
              "       [False],\n",
              "       [False],\n",
              "       [False],\n",
              "       [False],\n",
              "       [False],\n",
              "       [ True],\n",
              "       [False],\n",
              "       [False],\n",
              "       [False],\n",
              "       [False],\n",
              "       [False],\n",
              "       [False],\n",
              "       [False],\n",
              "       [False],\n",
              "       [False],\n",
              "       [ True],\n",
              "       [False],\n",
              "       [False],\n",
              "       [ True],\n",
              "       [ True],\n",
              "       [False],\n",
              "       [ True],\n",
              "       [ True],\n",
              "       [False],\n",
              "       [False],\n",
              "       [False],\n",
              "       [False],\n",
              "       [False],\n",
              "       [ True],\n",
              "       [False],\n",
              "       [False],\n",
              "       [ True],\n",
              "       [ True],\n",
              "       [ True],\n",
              "       [False],\n",
              "       [False],\n",
              "       [False],\n",
              "       [ True],\n",
              "       [ True],\n",
              "       [False],\n",
              "       [False],\n",
              "       [False],\n",
              "       [False],\n",
              "       [ True],\n",
              "       [False],\n",
              "       [False],\n",
              "       [False],\n",
              "       [False],\n",
              "       [ True],\n",
              "       [False],\n",
              "       [ True],\n",
              "       [False],\n",
              "       [False],\n",
              "       [False],\n",
              "       [ True],\n",
              "       [False],\n",
              "       [False],\n",
              "       [False],\n",
              "       [False],\n",
              "       [False],\n",
              "       [False],\n",
              "       [ True],\n",
              "       [False],\n",
              "       [False],\n",
              "       [False],\n",
              "       [ True],\n",
              "       [False],\n",
              "       [False],\n",
              "       [False],\n",
              "       [False],\n",
              "       [False],\n",
              "       [ True],\n",
              "       [False],\n",
              "       [False],\n",
              "       [False],\n",
              "       [False],\n",
              "       [ True],\n",
              "       [False],\n",
              "       [False],\n",
              "       [False],\n",
              "       [ True],\n",
              "       [ True],\n",
              "       [False],\n",
              "       [False],\n",
              "       [False],\n",
              "       [ True],\n",
              "       [False],\n",
              "       [False],\n",
              "       [False],\n",
              "       [ True],\n",
              "       [False],\n",
              "       [False],\n",
              "       [False],\n",
              "       [ True],\n",
              "       [False],\n",
              "       [ True],\n",
              "       [ True],\n",
              "       [False],\n",
              "       [False],\n",
              "       [ True],\n",
              "       [ True],\n",
              "       [ True],\n",
              "       [ True],\n",
              "       [ True],\n",
              "       [False],\n",
              "       [ True],\n",
              "       [ True],\n",
              "       [False],\n",
              "       [ True],\n",
              "       [False],\n",
              "       [False],\n",
              "       [False],\n",
              "       [False],\n",
              "       [ True],\n",
              "       [False],\n",
              "       [ True],\n",
              "       [False],\n",
              "       [False],\n",
              "       [False],\n",
              "       [False],\n",
              "       [False],\n",
              "       [ True],\n",
              "       [ True],\n",
              "       [ True],\n",
              "       [ True],\n",
              "       [False],\n",
              "       [ True],\n",
              "       [ True],\n",
              "       [False]])"
            ]
          },
          "metadata": {},
          "execution_count": 46
        }
      ]
    },
    {
      "cell_type": "code",
      "source": [
        "#Calculating the confusion matrix \n",
        "from sklearn.metrics import confusion_matrix\n",
        "cm2=confusion_matrix(y_test, y_pred_e2)\n",
        "labels = ['True Negative','False Positive','False Negative','True Positive']\n",
        "categories = [ 'Not Changing Job','Changing Job']\n",
        "make_confusion_matrix(cm2, \n",
        "                      group_names=labels,\n",
        "                      categories=categories, \n",
        "                      cmap='Blues')"
      ],
      "metadata": {
        "colab": {
          "base_uri": "https://localhost:8080/",
          "height": 269
        },
        "id": "Sz7dSkj_KcKM",
        "outputId": "a8f81d5c-7a86-48c4-ea46-d41be70e68fa"
      },
      "execution_count": 47,
      "outputs": [
        {
          "output_type": "display_data",
          "data": {
            "text/plain": [
              "<Figure size 432x288 with 2 Axes>"
            ],
            "image/png": "[encoded data removed]"
          },
          "metadata": {
            "needs_background": "light"
          }
        }
      ]
    },
    {
      "cell_type": "code",
      "source": [
        "#Accuracy as per the classification report \n",
        "from sklearn import metrics\n",
        "cr2=metrics.classification_report(y_test,y_pred_e2)\n",
        "print(cr2)"
      ],
      "metadata": {
        "colab": {
          "base_uri": "https://localhost:8080/"
        },
        "id": "L2OWuIPnKd1f",
        "outputId": "db56b8d1-18af-4eee-b16e-63e2bc8da429"
      },
      "execution_count": 40,
      "outputs": [
        {
          "output_type": "stream",
          "name": "stdout",
          "text": [
            "              precision    recall  f1-score   support\n",
            "\n",
            "           0       0.83      0.77      0.80       150\n",
            "           1       0.63      0.72      0.67        81\n",
            "\n",
            "    accuracy                           0.75       231\n",
            "   macro avg       0.73      0.74      0.74       231\n",
            "weighted avg       0.76      0.75      0.76       231\n",
            "\n"
          ]
        }
      ]
    },
    {
      "cell_type": "markdown",
      "source": [
        "It can be observed that both false negatives and recall scores have improved slightly in model 3, despite the fact that there is overfitting."
      ],
      "metadata": {
        "id": "kfDcADrj-D5f"
      }
    },
    {
      "cell_type": "markdown",
      "source": [
        "In the next model, I will try to perform hyperparameter tuning."
      ],
      "metadata": {
        "id": "vVXcnJr6-sRT"
      }
    },
    {
      "cell_type": "markdown",
      "source": [
        "### Model 4"
      ],
      "metadata": {
        "id": "NF5Itgjv-ygu"
      }
    },
    {
      "cell_type": "markdown",
      "source": [
        "#### **Grid Search CV**\n",
        "\n",
        "Some important hyperparameters to look out for while optimizing neural networks are:\n",
        "\n",
        "* Type of Architecture\n",
        "\n",
        "* Number of Layers\n",
        "\n",
        "* Number of Neurons in a layer\n",
        "\n",
        "* Regularization hyperparameters\n",
        "\n",
        "* Learning Rate\n",
        "\n",
        "* Type of Optimizer\n",
        "\n",
        "* Dropout Rate"
      ],
      "metadata": {
        "id": "GIW8wUil-2qc"
      }
    },
    {
      "cell_type": "markdown",
      "source": [
        "In this model, I will try to tune the parameters and also I will use Dropout method to avoid overfitting."
      ],
      "metadata": {
        "id": "0bhYMsTI_BbT"
      }
    },
    {
      "cell_type": "code",
      "source": [
        "backend.clear_session()\n",
        "np.random.seed(42)\n",
        "import random\n",
        "random.seed(42)\n",
        "tf.random.set_seed(42)"
      ],
      "metadata": {
        "id": "R3cUGtycKf_t"
      },
      "execution_count": 48,
      "outputs": []
    },
    {
      "cell_type": "code",
      "source": [
        "def create_model_v4(lr,batch_size):  \n",
        "    np.random.seed(1337)\n",
        "    model = Sequential()\n",
        "    model.add(Dense(256,activation='relu',input_dim = 8))\n",
        "    model.add(Dropout(0.3))\n",
        "    model.add(Dense(128,activation='relu'))\n",
        "    model.add(Dropout(0.3))\n",
        "    model.add(Dense(64,activation='relu'))\n",
        "    model.add(Dropout(0.2))\n",
        "    model.add(Dense(32,activation='relu')) \n",
        "    model.add(Dense(1, activation='sigmoid'))\n",
        "\n",
        "    #compile model\n",
        "    optimizer = tf.keras.optimizers.Adam(learning_rate=lr)\n",
        "    model.compile(optimizer = optimizer,loss = 'binary_crossentropy', metrics = ['accuracy'])\n",
        "    return model"
      ],
      "metadata": {
        "id": "O3E6D_rN-8XK"
      },
      "execution_count": 52,
      "outputs": []
    },
    {
      "cell_type": "markdown",
      "source": [
        "I will use Grid Search to optimize two hyperparameters - **Batch Size** & **Learning Rate**. "
      ],
      "metadata": {
        "id": "lOXbP_nn_Y60"
      }
    },
    {
      "cell_type": "code",
      "source": [
        "keras_estimator = KerasClassifier(build_fn=create_model_v4, verbose=1)\n",
        "# define the grid search parameters\n",
        "param_grid = {\n",
        "    'batch_size':[64,32, 128],\n",
        "    \"lr\":[0.01,0.1,0.001],}\n",
        "\n",
        "kfold_splits = 3\n",
        "grid = GridSearchCV(estimator=keras_estimator,  \n",
        "                    verbose=1,\n",
        "                    cv=kfold_splits,  \n",
        "                    param_grid=param_grid,n_jobs=-1)"
      ],
      "metadata": {
        "colab": {
          "base_uri": "https://localhost:8080/"
        },
        "id": "fs6Jvg5T-8ay",
        "outputId": "5622b3d1-7adb-4384-df26-29589863697f"
      },
      "execution_count": 53,
      "outputs": [
        {
          "output_type": "stream",
          "name": "stderr",
          "text": [
            "/usr/local/lib/python3.7/dist-packages/ipykernel_launcher.py:1: DeprecationWarning: KerasClassifier is deprecated, use Sci-Keras (https://github.com/adriangb/scikeras) instead. See https://www.adriangb.com/scikeras/stable/migration.html for help migrating.\n",
            "  \"\"\"Entry point for launching an IPython kernel.\n"
          ]
        }
      ]
    },
    {
      "cell_type": "code",
      "source": [
        "import time\n",
        "  \n",
        "# store starting time\n",
        "begin = time.time()\n",
        "\n",
        "\n",
        "grid_result = grid.fit(X_train, y_train,validation_split=0.2,verbose=1) \n",
        "\n",
        "# Summarize results\n",
        "print(\"Best: %f using %s\" % (grid_result.best_score_, grid_result.best_params_))\n",
        "means = grid_result.cv_results_['mean_test_score']\n",
        "stds = grid_result.cv_results_['std_test_score']\n",
        "params = grid_result.cv_results_['params']\n",
        "\n",
        "time.sleep(1)\n",
        "# store end time\n",
        "end = time.time()\n",
        "  \n",
        "# total time taken\n",
        "print(f\"Total runtime of the program is {end - begin}\")"
      ],
      "metadata": {
        "colab": {
          "base_uri": "https://localhost:8080/"
        },
        "id": "AXnXLJUk-8e5",
        "outputId": "5f0a048b-3d46-4cba-df2b-91c792796b75"
      },
      "execution_count": 51,
      "outputs": [
        {
          "output_type": "stream",
          "name": "stdout",
          "text": [
            "Fitting 3 folds for each of 9 candidates, totalling 27 fits\n",
            "7/7 [==============================] - 1s 23ms/step - loss: 3.1050 - accuracy: 0.5408 - val_loss: 0.6068 - val_accuracy: 0.6667\n",
            "Best: 0.661080 using {'batch_size': 64, 'lr': 0.001}\n",
            "Total runtime of the program is 21.69616961479187\n"
          ]
        }
      ]
    },
    {
      "cell_type": "markdown",
      "source": [
        "As shown above, the best results of the grid search are batch_size=64 and learniing rate 0.001.\n",
        "Next the model will be run based on the best results of grid search."
      ],
      "metadata": {
        "id": "fU51ZaLV_7Cn"
      }
    },
    {
      "cell_type": "code",
      "source": [
        "estimator=create_model_v4(batch_size=grid_result.best_params_['batch_size'],lr=grid_result.best_params_['lr'])\n",
        "\n",
        "estimator.summary()"
      ],
      "metadata": {
        "colab": {
          "base_uri": "https://localhost:8080/"
        },
        "id": "1nLMH04--8n-",
        "outputId": "e0a5a467-08a4-4f15-e8db-26a9fe1e345d"
      },
      "execution_count": 55,
      "outputs": [
        {
          "output_type": "stream",
          "name": "stdout",
          "text": [
            "Model: \"sequential_2\"\n",
            "_________________________________________________________________\n",
            " Layer (type)                Output Shape              Param #   \n",
            "=================================================================\n",
            " dense_10 (Dense)            (None, 256)               2304      \n",
            "                                                                 \n",
            " dropout_6 (Dropout)         (None, 256)               0         \n",
            "                                                                 \n",
            " dense_11 (Dense)            (None, 128)               32896     \n",
            "                                                                 \n",
            " dropout_7 (Dropout)         (None, 128)               0         \n",
            "                                                                 \n",
            " dense_12 (Dense)            (None, 64)                8256      \n",
            "                                                                 \n",
            " dropout_8 (Dropout)         (None, 64)                0         \n",
            "                                                                 \n",
            " dense_13 (Dense)            (None, 32)                2080      \n",
            "                                                                 \n",
            " dense_14 (Dense)            (None, 1)                 33        \n",
            "                                                                 \n",
            "=================================================================\n",
            "Total params: 45,569\n",
            "Trainable params: 45,569\n",
            "Non-trainable params: 0\n",
            "_________________________________________________________________\n"
          ]
        }
      ]
    },
    {
      "cell_type": "code",
      "source": [
        "optimizer = tf.keras.optimizers.Adam(grid_result.best_params_['lr'])\n",
        "estimator.compile(loss='binary_crossentropy',optimizer=optimizer,metrics=['accuracy'])\n",
        "history_4=estimator.fit(X_train, y_train, epochs=50, batch_size = 64, verbose=1,validation_split=0.2)"
      ],
      "metadata": {
        "colab": {
          "base_uri": "https://localhost:8080/"
        },
        "id": "JyOCr6PPArEH",
        "outputId": "094d5204-1293-4fed-9c1b-bc398ec10c20"
      },
      "execution_count": 56,
      "outputs": [
        {
          "output_type": "stream",
          "name": "stdout",
          "text": [
            "Epoch 1/50\n",
            "7/7 [==============================] - 1s 24ms/step - loss: 2.3786 - accuracy: 0.5478 - val_loss: 0.9426 - val_accuracy: 0.5926\n",
            "Epoch 2/50\n",
            "7/7 [==============================] - 0s 8ms/step - loss: 1.3842 - accuracy: 0.5385 - val_loss: 0.9348 - val_accuracy: 0.5741\n",
            "Epoch 3/50\n",
            "7/7 [==============================] - 0s 6ms/step - loss: 1.2002 - accuracy: 0.6084 - val_loss: 0.9544 - val_accuracy: 0.5648\n",
            "Epoch 4/50\n",
            "7/7 [==============================] - 0s 6ms/step - loss: 1.0592 - accuracy: 0.5967 - val_loss: 0.7453 - val_accuracy: 0.5000\n",
            "Epoch 5/50\n",
            "7/7 [==============================] - 0s 6ms/step - loss: 0.9499 - accuracy: 0.5688 - val_loss: 0.6685 - val_accuracy: 0.6296\n",
            "Epoch 6/50\n",
            "7/7 [==============================] - 0s 5ms/step - loss: 0.9877 - accuracy: 0.5618 - val_loss: 0.6920 - val_accuracy: 0.6019\n",
            "Epoch 7/50\n",
            "7/7 [==============================] - 0s 5ms/step - loss: 0.9734 - accuracy: 0.5711 - val_loss: 0.7058 - val_accuracy: 0.4630\n",
            "Epoch 8/50\n",
            "7/7 [==============================] - 0s 5ms/step - loss: 0.9390 - accuracy: 0.5828 - val_loss: 0.6848 - val_accuracy: 0.5278\n",
            "Epoch 9/50\n",
            "7/7 [==============================] - 0s 6ms/step - loss: 0.8196 - accuracy: 0.5944 - val_loss: 0.6895 - val_accuracy: 0.6019\n",
            "Epoch 10/50\n",
            "7/7 [==============================] - 0s 5ms/step - loss: 0.8424 - accuracy: 0.5571 - val_loss: 0.7006 - val_accuracy: 0.6019\n",
            "Epoch 11/50\n",
            "7/7 [==============================] - 0s 5ms/step - loss: 0.7849 - accuracy: 0.6131 - val_loss: 0.6799 - val_accuracy: 0.6296\n",
            "Epoch 12/50\n",
            "7/7 [==============================] - 0s 5ms/step - loss: 0.7845 - accuracy: 0.6340 - val_loss: 0.6680 - val_accuracy: 0.6481\n",
            "Epoch 13/50\n",
            "7/7 [==============================] - 0s 6ms/step - loss: 0.7094 - accuracy: 0.6224 - val_loss: 0.6872 - val_accuracy: 0.6389\n",
            "Epoch 14/50\n",
            "7/7 [==============================] - 0s 5ms/step - loss: 0.7529 - accuracy: 0.5944 - val_loss: 0.7170 - val_accuracy: 0.5926\n",
            "Epoch 15/50\n",
            "7/7 [==============================] - 0s 5ms/step - loss: 0.7272 - accuracy: 0.6177 - val_loss: 0.7340 - val_accuracy: 0.4907\n",
            "Epoch 16/50\n",
            "7/7 [==============================] - 0s 5ms/step - loss: 0.7427 - accuracy: 0.5758 - val_loss: 0.7357 - val_accuracy: 0.5648\n",
            "Epoch 17/50\n",
            "7/7 [==============================] - 0s 6ms/step - loss: 0.7303 - accuracy: 0.6247 - val_loss: 0.7190 - val_accuracy: 0.5926\n",
            "Epoch 18/50\n",
            "7/7 [==============================] - 0s 6ms/step - loss: 0.6925 - accuracy: 0.6340 - val_loss: 0.6895 - val_accuracy: 0.6019\n",
            "Epoch 19/50\n",
            "7/7 [==============================] - 0s 6ms/step - loss: 0.7272 - accuracy: 0.6084 - val_loss: 0.6618 - val_accuracy: 0.5926\n",
            "Epoch 20/50\n",
            "7/7 [==============================] - 0s 5ms/step - loss: 0.7104 - accuracy: 0.6014 - val_loss: 0.6616 - val_accuracy: 0.5926\n",
            "Epoch 21/50\n",
            "7/7 [==============================] - 0s 5ms/step - loss: 0.6645 - accuracy: 0.6597 - val_loss: 0.6690 - val_accuracy: 0.6019\n",
            "Epoch 22/50\n",
            "7/7 [==============================] - 0s 5ms/step - loss: 0.6791 - accuracy: 0.6317 - val_loss: 0.6704 - val_accuracy: 0.6019\n",
            "Epoch 23/50\n",
            "7/7 [==============================] - 0s 8ms/step - loss: 0.6502 - accuracy: 0.6597 - val_loss: 0.6698 - val_accuracy: 0.6019\n",
            "Epoch 24/50\n",
            "7/7 [==============================] - 0s 6ms/step - loss: 0.7066 - accuracy: 0.6061 - val_loss: 0.6599 - val_accuracy: 0.6019\n",
            "Epoch 25/50\n",
            "7/7 [==============================] - 0s 5ms/step - loss: 0.6855 - accuracy: 0.6317 - val_loss: 0.6449 - val_accuracy: 0.6296\n",
            "Epoch 26/50\n",
            "7/7 [==============================] - 0s 6ms/step - loss: 0.6868 - accuracy: 0.6410 - val_loss: 0.6372 - val_accuracy: 0.6574\n",
            "Epoch 27/50\n",
            "7/7 [==============================] - 0s 6ms/step - loss: 0.6473 - accuracy: 0.6573 - val_loss: 0.6221 - val_accuracy: 0.6296\n",
            "Epoch 28/50\n",
            "7/7 [==============================] - 0s 6ms/step - loss: 0.6334 - accuracy: 0.6830 - val_loss: 0.6017 - val_accuracy: 0.6759\n",
            "Epoch 29/50\n",
            "7/7 [==============================] - 0s 6ms/step - loss: 0.6725 - accuracy: 0.6480 - val_loss: 0.5928 - val_accuracy: 0.7500\n",
            "Epoch 30/50\n",
            "7/7 [==============================] - 0s 5ms/step - loss: 0.6442 - accuracy: 0.6550 - val_loss: 0.6183 - val_accuracy: 0.7315\n",
            "Epoch 31/50\n",
            "7/7 [==============================] - 0s 5ms/step - loss: 0.6647 - accuracy: 0.6503 - val_loss: 0.6320 - val_accuracy: 0.6204\n",
            "Epoch 32/50\n",
            "7/7 [==============================] - 0s 6ms/step - loss: 0.6719 - accuracy: 0.6503 - val_loss: 0.6604 - val_accuracy: 0.5926\n",
            "Epoch 33/50\n",
            "7/7 [==============================] - 0s 6ms/step - loss: 0.6601 - accuracy: 0.6667 - val_loss: 0.6549 - val_accuracy: 0.6019\n",
            "Epoch 34/50\n",
            "7/7 [==============================] - 0s 5ms/step - loss: 0.6487 - accuracy: 0.6107 - val_loss: 0.6519 - val_accuracy: 0.6019\n",
            "Epoch 35/50\n",
            "7/7 [==============================] - 0s 5ms/step - loss: 0.6724 - accuracy: 0.6550 - val_loss: 0.6456 - val_accuracy: 0.6019\n",
            "Epoch 36/50\n",
            "7/7 [==============================] - 0s 5ms/step - loss: 0.6376 - accuracy: 0.6573 - val_loss: 0.6333 - val_accuracy: 0.6019\n",
            "Epoch 37/50\n",
            "7/7 [==============================] - 0s 5ms/step - loss: 0.6401 - accuracy: 0.6550 - val_loss: 0.6211 - val_accuracy: 0.6296\n",
            "Epoch 38/50\n",
            "7/7 [==============================] - 0s 6ms/step - loss: 0.6339 - accuracy: 0.6737 - val_loss: 0.6172 - val_accuracy: 0.6204\n",
            "Epoch 39/50\n",
            "7/7 [==============================] - 0s 5ms/step - loss: 0.6166 - accuracy: 0.6807 - val_loss: 0.6273 - val_accuracy: 0.6204\n",
            "Epoch 40/50\n",
            "7/7 [==============================] - 0s 6ms/step - loss: 0.6460 - accuracy: 0.6643 - val_loss: 0.6463 - val_accuracy: 0.6019\n",
            "Epoch 41/50\n",
            "7/7 [==============================] - 0s 6ms/step - loss: 0.6331 - accuracy: 0.6503 - val_loss: 0.6442 - val_accuracy: 0.6204\n",
            "Epoch 42/50\n",
            "7/7 [==============================] - 0s 7ms/step - loss: 0.6375 - accuracy: 0.6667 - val_loss: 0.6426 - val_accuracy: 0.6296\n",
            "Epoch 43/50\n",
            "7/7 [==============================] - 0s 5ms/step - loss: 0.6296 - accuracy: 0.6480 - val_loss: 0.6472 - val_accuracy: 0.6019\n",
            "Epoch 44/50\n",
            "7/7 [==============================] - 0s 6ms/step - loss: 0.6484 - accuracy: 0.6200 - val_loss: 0.6409 - val_accuracy: 0.6019\n",
            "Epoch 45/50\n",
            "7/7 [==============================] - 0s 5ms/step - loss: 0.6341 - accuracy: 0.6713 - val_loss: 0.6389 - val_accuracy: 0.5926\n",
            "Epoch 46/50\n",
            "7/7 [==============================] - 0s 5ms/step - loss: 0.6240 - accuracy: 0.6550 - val_loss: 0.6280 - val_accuracy: 0.6204\n",
            "Epoch 47/50\n",
            "7/7 [==============================] - 0s 5ms/step - loss: 0.6204 - accuracy: 0.6807 - val_loss: 0.6075 - val_accuracy: 0.6389\n",
            "Epoch 48/50\n",
            "7/7 [==============================] - 0s 5ms/step - loss: 0.6180 - accuracy: 0.6830 - val_loss: 0.6043 - val_accuracy: 0.6296\n",
            "Epoch 49/50\n",
            "7/7 [==============================] - 0s 6ms/step - loss: 0.6161 - accuracy: 0.6480 - val_loss: 0.6136 - val_accuracy: 0.6296\n",
            "Epoch 50/50\n",
            "7/7 [==============================] - 0s 5ms/step - loss: 0.6117 - accuracy: 0.6550 - val_loss: 0.6191 - val_accuracy: 0.6204\n"
          ]
        }
      ]
    },
    {
      "cell_type": "code",
      "source": [
        "# Plotting accuracy at different epochs\n",
        "plt.plot(history_4.history['accuracy'])\n",
        "plt.plot(history_4.history['val_accuracy'])\n",
        "plt.title('Accuracy vs Epochs')\n",
        "plt.ylabel('Accuracy')\n",
        "plt.xlabel('Epoch')\n",
        "plt.legend(['Train', 'Validation'], loc='lower right')\n",
        "plt.show()"
      ],
      "metadata": {
        "colab": {
          "base_uri": "https://localhost:8080/",
          "height": 295
        },
        "id": "TG2bTjB0AzeD",
        "outputId": "ee0c4e88-101d-41d3-c913-4edf976251bf"
      },
      "execution_count": 57,
      "outputs": [
        {
          "output_type": "display_data",
          "data": {
            "text/plain": [
              "<Figure size 432x288 with 1 Axes>"
            ],
            "image/png": "[encoded data removed]"
          },
          "metadata": {
            "needs_background": "light"
          }
        }
      ]
    },
    {
      "cell_type": "markdown",
      "source": [
        "The above plot shows that the model is not overfitting. However, the accuracy of both training and validation sets have been reduced substantially."
      ],
      "metadata": {
        "id": "Oi7MYkawCXfV"
      }
    },
    {
      "cell_type": "code",
      "source": [
        "from sklearn.metrics import roc_curve\n",
        "\n",
        "from matplotlib import pyplot\n",
        "\n",
        "\n",
        "# predict probabilities\n",
        "yhat5 = estimator.predict(X_test)\n",
        "# keep probabilities for the positive outcome only\n",
        "yhat5 = yhat5[:, 0]\n",
        "# calculate roc curves\n",
        "fpr, tpr, thresholds5 = roc_curve(y_test, yhat5)\n",
        "# calculate the g-mean for each threshold\n",
        "gmeans5 = np.sqrt(tpr * (1-fpr))\n",
        "# locate the index of the largest g-mean\n",
        "ix = np.argmax(gmeans5)\n",
        "print('Best Threshold=%f, G-Mean=%.3f' % (thresholds5[ix], gmeans5[ix]))\n",
        "# plot the roc curve for the model\n",
        "pyplot.plot([0,1], [0,1], linestyle='--', label='No Skill')\n",
        "pyplot.plot(fpr, tpr, marker='.')\n",
        "pyplot.scatter(fpr[ix], tpr[ix], marker='o', color='black', label='Best')\n",
        "# axis labels\n",
        "pyplot.xlabel('False Positive Rate')\n",
        "pyplot.ylabel('True Positive Rate')\n",
        "pyplot.legend()\n",
        "# show the plot\n",
        "pyplot.show()"
      ],
      "metadata": {
        "colab": {
          "base_uri": "https://localhost:8080/",
          "height": 296
        },
        "id": "5IdiRs1qA9ha",
        "outputId": "ccab63cb-2026-477e-b95b-a5816aab8f0b"
      },
      "execution_count": 59,
      "outputs": [
        {
          "output_type": "stream",
          "name": "stdout",
          "text": [
            "Best Threshold=0.404635, G-Mean=0.650\n"
          ]
        },
        {
          "output_type": "display_data",
          "data": {
            "text/plain": [
              "<Figure size 432x288 with 1 Axes>"
            ],
            "image/png": "[encoded data removed]"
          },
          "metadata": {
            "needs_background": "light"
          }
        }
      ]
    },
    {
      "cell_type": "code",
      "source": [
        "y_pred_e5=estimator.predict(X_test)\n",
        "y_pred_e5 = (y_pred_e5 > thresholds5[ix])\n",
        "y_pred_e5"
      ],
      "metadata": {
        "colab": {
          "base_uri": "https://localhost:8080/"
        },
        "id": "HuW34lojCfu5",
        "outputId": "dddbce7f-8814-4974-9b7f-074570ae2e5d"
      },
      "execution_count": 62,
      "outputs": [
        {
          "output_type": "execute_result",
          "data": {
            "text/plain": [
              "array([[ True],\n",
              "       [ True],\n",
              "       [False],\n",
              "       [False],\n",
              "       [False],\n",
              "       [False],\n",
              "       [ True],\n",
              "       [False],\n",
              "       [ True],\n",
              "       [False],\n",
              "       [False],\n",
              "       [False],\n",
              "       [False],\n",
              "       [False],\n",
              "       [False],\n",
              "       [False],\n",
              "       [False],\n",
              "       [ True],\n",
              "       [False],\n",
              "       [False],\n",
              "       [False],\n",
              "       [False],\n",
              "       [ True],\n",
              "       [ True],\n",
              "       [ True],\n",
              "       [ True],\n",
              "       [ True],\n",
              "       [False],\n",
              "       [ True],\n",
              "       [ True],\n",
              "       [ True],\n",
              "       [ True],\n",
              "       [ True],\n",
              "       [False],\n",
              "       [ True],\n",
              "       [False],\n",
              "       [False],\n",
              "       [False],\n",
              "       [ True],\n",
              "       [ True],\n",
              "       [False],\n",
              "       [False],\n",
              "       [False],\n",
              "       [ True],\n",
              "       [ True],\n",
              "       [False],\n",
              "       [False],\n",
              "       [ True],\n",
              "       [ True],\n",
              "       [False],\n",
              "       [False],\n",
              "       [ True],\n",
              "       [ True],\n",
              "       [ True],\n",
              "       [False],\n",
              "       [ True],\n",
              "       [False],\n",
              "       [False],\n",
              "       [False],\n",
              "       [False],\n",
              "       [ True],\n",
              "       [ True],\n",
              "       [False],\n",
              "       [ True],\n",
              "       [ True],\n",
              "       [False],\n",
              "       [False],\n",
              "       [ True],\n",
              "       [False],\n",
              "       [ True],\n",
              "       [False],\n",
              "       [False],\n",
              "       [False],\n",
              "       [ True],\n",
              "       [False],\n",
              "       [False],\n",
              "       [False],\n",
              "       [False],\n",
              "       [False],\n",
              "       [False],\n",
              "       [False],\n",
              "       [False],\n",
              "       [False],\n",
              "       [False],\n",
              "       [ True],\n",
              "       [False],\n",
              "       [ True],\n",
              "       [False],\n",
              "       [ True],\n",
              "       [ True],\n",
              "       [ True],\n",
              "       [False],\n",
              "       [False],\n",
              "       [ True],\n",
              "       [ True],\n",
              "       [False],\n",
              "       [ True],\n",
              "       [False],\n",
              "       [False],\n",
              "       [ True],\n",
              "       [ True],\n",
              "       [False],\n",
              "       [False],\n",
              "       [False],\n",
              "       [False],\n",
              "       [False],\n",
              "       [False],\n",
              "       [False],\n",
              "       [False],\n",
              "       [ True],\n",
              "       [False],\n",
              "       [False],\n",
              "       [False],\n",
              "       [False],\n",
              "       [False],\n",
              "       [False],\n",
              "       [ True],\n",
              "       [False],\n",
              "       [False],\n",
              "       [ True],\n",
              "       [ True],\n",
              "       [False],\n",
              "       [False],\n",
              "       [False],\n",
              "       [ True],\n",
              "       [False],\n",
              "       [False],\n",
              "       [False],\n",
              "       [False],\n",
              "       [False],\n",
              "       [ True],\n",
              "       [False],\n",
              "       [False],\n",
              "       [ True],\n",
              "       [ True],\n",
              "       [ True],\n",
              "       [False],\n",
              "       [False],\n",
              "       [False],\n",
              "       [False],\n",
              "       [ True],\n",
              "       [False],\n",
              "       [False],\n",
              "       [False],\n",
              "       [False],\n",
              "       [ True],\n",
              "       [ True],\n",
              "       [False],\n",
              "       [False],\n",
              "       [ True],\n",
              "       [ True],\n",
              "       [ True],\n",
              "       [False],\n",
              "       [False],\n",
              "       [ True],\n",
              "       [False],\n",
              "       [ True],\n",
              "       [False],\n",
              "       [False],\n",
              "       [ True],\n",
              "       [ True],\n",
              "       [False],\n",
              "       [False],\n",
              "       [ True],\n",
              "       [ True],\n",
              "       [False],\n",
              "       [ True],\n",
              "       [ True],\n",
              "       [ True],\n",
              "       [False],\n",
              "       [False],\n",
              "       [False],\n",
              "       [False],\n",
              "       [ True],\n",
              "       [ True],\n",
              "       [False],\n",
              "       [ True],\n",
              "       [False],\n",
              "       [ True],\n",
              "       [False],\n",
              "       [False],\n",
              "       [False],\n",
              "       [ True],\n",
              "       [ True],\n",
              "       [ True],\n",
              "       [False],\n",
              "       [False],\n",
              "       [ True],\n",
              "       [ True],\n",
              "       [False],\n",
              "       [False],\n",
              "       [ True],\n",
              "       [ True],\n",
              "       [False],\n",
              "       [ True],\n",
              "       [False],\n",
              "       [False],\n",
              "       [False],\n",
              "       [ True],\n",
              "       [False],\n",
              "       [False],\n",
              "       [False],\n",
              "       [False],\n",
              "       [False],\n",
              "       [ True],\n",
              "       [False],\n",
              "       [False],\n",
              "       [False],\n",
              "       [False],\n",
              "       [False],\n",
              "       [ True],\n",
              "       [ True],\n",
              "       [False],\n",
              "       [ True],\n",
              "       [False],\n",
              "       [ True],\n",
              "       [False],\n",
              "       [False],\n",
              "       [False],\n",
              "       [ True],\n",
              "       [False],\n",
              "       [False],\n",
              "       [ True],\n",
              "       [ True],\n",
              "       [False],\n",
              "       [ True],\n",
              "       [False],\n",
              "       [False],\n",
              "       [ True],\n",
              "       [False],\n",
              "       [False]])"
            ]
          },
          "metadata": {},
          "execution_count": 62
        }
      ]
    },
    {
      "cell_type": "code",
      "source": [
        "#Calculating the confusion matrix \n",
        "from sklearn.metrics import confusion_matrix\n",
        "cm5=confusion_matrix(y_test, y_pred_e5)\n",
        "labels = ['True Positive','False Negative','False Positive','True Negative']\n",
        "categories = [ 'Not Changing Job','Changing Job']\n",
        "make_confusion_matrix(cm5, \n",
        "                      group_names=labels,\n",
        "                      categories=categories, \n",
        "                      cmap='Blues')"
      ],
      "metadata": {
        "colab": {
          "base_uri": "https://localhost:8080/",
          "height": 265
        },
        "id": "OEvW3sL0CkkW",
        "outputId": "d24e9114-ac65-48ee-a197-94373979f569"
      },
      "execution_count": 63,
      "outputs": [
        {
          "output_type": "display_data",
          "data": {
            "text/plain": [
              "<Figure size 432x288 with 2 Axes>"
            ],
            "image/png": "[encoded data removed]"
          },
          "metadata": {
            "needs_background": "light"
          }
        }
      ]
    },
    {
      "cell_type": "code",
      "source": [
        "#Accuracy as per the classification report \n",
        "from sklearn import metrics\n",
        "cr5=metrics.classification_report(y_test,y_pred_e5)\n",
        "print(cr5)"
      ],
      "metadata": {
        "colab": {
          "base_uri": "https://localhost:8080/"
        },
        "id": "67OXW2ebCsXB",
        "outputId": "2ef3e0bc-6784-4afb-ab2d-6394d49b3e49"
      },
      "execution_count": 64,
      "outputs": [
        {
          "output_type": "stream",
          "name": "stdout",
          "text": [
            "              precision    recall  f1-score   support\n",
            "\n",
            "           0       0.76      0.71      0.74       150\n",
            "           1       0.52      0.58      0.55        81\n",
            "\n",
            "    accuracy                           0.67       231\n",
            "   macro avg       0.64      0.65      0.64       231\n",
            "weighted avg       0.68      0.67      0.67       231\n",
            "\n"
          ]
        }
      ]
    },
    {
      "cell_type": "markdown",
      "source": [
        "Also, false negatives and recall scores have been reduced as well, meaniing that the default parameters of previous models gave better results."
      ],
      "metadata": {
        "id": "HlMane75CwjC"
      }
    },
    {
      "cell_type": "markdown",
      "source": [
        "### Business Recommendations"
      ],
      "metadata": {
        "id": "Nf96R6BUDi5h"
      }
    },
    {
      "cell_type": "markdown",
      "source": [
        "In this exercise, 4 different NN models were built. It was observed that Model 3, which used batch normalization gave better results, both in terms of Recall and also false negatives. However, this model was slightly overfitting.\n"
      ],
      "metadata": {
        "id": "KucMdYBkDi9x"
      }
    },
    {
      "cell_type": "markdown",
      "source": [
        "The next best model was model 2, which had a Recall score of 62% and false negatives were 13%. Although the scores are not great but the model was not overfitting."
      ],
      "metadata": {
        "id": "iUDv73AeDjDb"
      }
    },
    {
      "cell_type": "markdown",
      "source": [
        "It is suggested to try other models as well in order to find better scores. Also, it is recommended to use feature engineering in order to find more suitable features."
      ],
      "metadata": {
        "id": "v1sKoSVpEe5r"
      }
    },
    {
      "cell_type": "code",
      "source": [],
      "metadata": {
        "id": "s67L-fYBCva-"
      },
      "execution_count": null,
      "outputs": []
    }
  ],
  "metadata": {
    "colab": {
      "collapsed_sections": [],
      "provenance": []
    },
    "kernelspec": {
      "display_name": "Python 3 (ipykernel)",
      "language": "python",
      "name": "python3"
    },
    "language_info": {
      "codemirror_mode": {
        "name": "ipython",
        "version": 3
      },
      "file_extension": ".py",
      "mimetype": "text/x-python",
      "name": "python",
      "nbconvert_exporter": "python",
      "pygments_lexer": "ipython3",
      "version": "3.9.12"
    },
    "toc": {
      "base_numbering": 1,
      "nav_menu": {},
      "number_sections": true,
      "sideBar": true,
      "skip_h1_title": false,
      "title_cell": "Table of Contents",
      "title_sidebar": "Contents",
      "toc_cell": false,
      "toc_position": {},
      "toc_section_display": true,
      "toc_window_display": false
    },
    "varInspector": {
      "cols": {
        "lenName": 16,
        "lenType": 16,
        "lenVar": 40
      },
      "kernels_config": {
        "python": {
          "delete_cmd_postfix": "",
          "delete_cmd_prefix": "del ",
          "library": "var_list.py",
          "varRefreshCmd": "print(var_dic_list())"
        },
        "r": {
          "delete_cmd_postfix": ") ",
          "delete_cmd_prefix": "rm(",
          "library": "var_list.r",
          "varRefreshCmd": "cat(var_dic_list()) "
        }
      },
      "types_to_exclude": [
        "module",
        "function",
        "builtin_function_or_method",
        "instance",
        "_Feature"
      ],
      "window_display": false
    }
  },
  "nbformat": 4,
  "nbformat_minor": 0
}